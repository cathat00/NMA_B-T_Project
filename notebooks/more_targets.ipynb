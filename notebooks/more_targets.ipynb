{
  "cells": [
    {
      "cell_type": "markdown",
      "metadata": {
        "execution": {},
        "id": "9X-qvMhHP4sy"
      },
      "source": [
        "## Setup\n",
        "Installs and imports necessary modules from Github.\n",
        "\n",
        "Trouble running this? Try restarting the Colab session (\"Runtime\" --> \"Restart Session\").\n",
        "\n",
        "If you're working in your own branch in the Github repo, change the wget commands to point towards that branch."
      ]
    },
    {
      "cell_type": "code",
      "execution_count": 2,
      "metadata": {
        "id": "gJl1T98wW9ZD",
        "colab": {
          "base_uri": "https://localhost:8080/",
          "height": 384
        },
        "outputId": "a0cd996b-49f5-4855-a078-a37b42706c1d"
      },
      "outputs": [
        {
          "output_type": "error",
          "ename": "ImportError",
          "evalue": "cannot import name 'GeometricReachingTask' from 'modules.tasks' (/content/modules/tasks.py)",
          "traceback": [
            "\u001b[0;31m---------------------------------------------------------------------------\u001b[0m",
            "\u001b[0;31mImportError\u001b[0m                               Traceback (most recent call last)",
            "\u001b[0;32m/tmp/ipython-input-2-2075501748.py\u001b[0m in \u001b[0;36m<cell line: 0>\u001b[0;34m()\u001b[0m\n\u001b[1;32m     10\u001b[0m \u001b[0;32mfrom\u001b[0m \u001b[0mos\u001b[0m\u001b[0;34m.\u001b[0m\u001b[0mpath\u001b[0m \u001b[0;32mimport\u001b[0m \u001b[0mjoin\u001b[0m\u001b[0;34m\u001b[0m\u001b[0;34m\u001b[0m\u001b[0m\n\u001b[1;32m     11\u001b[0m \u001b[0;32mfrom\u001b[0m \u001b[0mmodules\u001b[0m\u001b[0;34m.\u001b[0m\u001b[0mplots\u001b[0m \u001b[0;32mimport\u001b[0m \u001b[0mTaskViz\u001b[0m\u001b[0;34m,\u001b[0m \u001b[0mManifoldViz\u001b[0m\u001b[0;34m,\u001b[0m \u001b[0mExperimentSummaryViz\u001b[0m\u001b[0;34m\u001b[0m\u001b[0;34m\u001b[0m\u001b[0m\n\u001b[0;32m---> 12\u001b[0;31m \u001b[0;32mfrom\u001b[0m \u001b[0mmodules\u001b[0m\u001b[0;34m.\u001b[0m\u001b[0mtasks\u001b[0m \u001b[0;32mimport\u001b[0m \u001b[0mGeometricReachingTask\u001b[0m\u001b[0;34m\u001b[0m\u001b[0;34m\u001b[0m\u001b[0m\n\u001b[0m\u001b[1;32m     13\u001b[0m \u001b[0;32mimport\u001b[0m \u001b[0mmodules\u001b[0m\u001b[0;34m.\u001b[0m\u001b[0mconfigs\u001b[0m \u001b[0;32mas\u001b[0m \u001b[0mconfigs\u001b[0m\u001b[0;34m\u001b[0m\u001b[0;34m\u001b[0m\u001b[0m\n",
            "\u001b[0;31mImportError\u001b[0m: cannot import name 'GeometricReachingTask' from 'modules.tasks' (/content/modules/tasks.py)",
            "",
            "\u001b[0;31m---------------------------------------------------------------------------\u001b[0;32m\nNOTE: If your import is failing due to a missing package, you can\nmanually install dependencies using either !pip or !apt.\n\nTo view examples of installing some common dependencies, click the\n\"Open Examples\" button below.\n\u001b[0;31m---------------------------------------------------------------------------\u001b[0m\n"
          ],
          "errorDetails": {
            "actions": [
              {
                "action": "open_url",
                "actionText": "Open Examples",
                "url": "/notebooks/snippets/importing_libraries.ipynb"
              }
            ]
          }
        }
      ],
      "source": [
        "# Get all scripts from the modules folder in Github\n",
        "!mkdir -p modules\n",
        "base_url = \"https://raw.githubusercontent.com/cathat00/NMA_B-T_Project/lukes_branch/modules/\"\n",
        "files = [\"configs.py\", \"plots.py\", \"network.py\", \"tasks.py\", \"bci.py\"]\n",
        "for file in files:\n",
        "    !wget -q \"{base_url}{file}\" -O \"modules/{file}\"\n",
        "\n",
        "# Imports for this script\n",
        "import numpy as np\n",
        "from os.path import join\n",
        "from modules.plots import TaskViz, ManifoldViz, ExperimentSummaryViz\n",
        "import modules.tasks as tasks\n",
        "import modules.configs as configs\n",
        "import importlib\n",
        "importlib.reload(tasks)"
      ]
    },
    {
      "cell_type": "markdown",
      "metadata": {
        "id": "gQlc3ex9YrFm"
      },
      "source": [
        "##Train and Evaluate the Model"
      ]
    },
    {
      "cell_type": "code",
      "execution_count": null,
      "metadata": {
        "id": "c2OmpnKZYPdo"
      },
      "outputs": [],
      "source": [
        "# ====================\n",
        "# == Initialization ==\n",
        "# ====================\n",
        "\n",
        "seeds = [1,2,3,4,5]\n",
        "experiments = [1,2,3,4,5,6,7,8,9,10,11,12,13,14,15,16,17,18,19,20]\n",
        "eigenval_list = []\n",
        "\n",
        "\n",
        "# =====================\n",
        "# == Run Experiments ==\n",
        "# =====================\n",
        "\n",
        "for seed in seeds:\n",
        "\n",
        "  root_out_dir = f\"./results/seed{seed}\"\n",
        "\n",
        "  for ntargets in experiments:\n",
        "\n",
        "\n",
        "    # ======================\n",
        "    # == Setup Experiment ==\n",
        "    # ======================\n",
        "\n",
        "    exp_name = f\"{ntargets}Targets\" # Name of this experiment\n",
        "    exp_out_dir = join(root_out_dir, exp_name)\n",
        "\n",
        "    cfg = configs.BasicExperimentConfig(ntrials=80, ntargets=ntargets, seed=seed)\n",
        "    task = cfg.task # The task the RNN will learn\n",
        "    rnn = cfg.rnn # Recurrent Neural Network\n",
        "    bci = cfg.bci # Brain computer interface\n",
        "\n",
        "    print(f\"Starting experiment: {exp_name}\")\n",
        "    print(f\"-- Random Seed: {seed}\")\n",
        "    print(f\"-- Stimulus Shape: {task.stimuli.shape}\")\n",
        "    print(f\"-- Targets Shape: {task.targets.shape}\")\n",
        "\n",
        "\n",
        "    # =======================\n",
        "    # == Simulate Learning ==\n",
        "    # =======================\n",
        "\n",
        "    # -- Train the RNN\n",
        "    rnn.relearn(cfg.ntrials, task.stimuli,\n",
        "                task.stim_length, bci.decoder,\n",
        "                cfg.feedback, task.targets)\n",
        "\n",
        "    # -- Compute manifold\n",
        "    manifold_out = rnn.calculate_manifold(\n",
        "       task.stimuli,\n",
        "       task.stim_length,\n",
        "       cfg.ntrials_manifold\n",
        "    )\n",
        "\n",
        "    proj = manifold_out['xi2'] # Reshaped projection\n",
        "    activity = manifold_out['activity_reshaped']\n",
        "    order = manifold_out['order'] # Target indices for each trial\n",
        "    evecs = manifold_out['evec'] # Eigenvectors\n",
        "\n",
        "    # -- Train BCI\n",
        "    bci.train(proj,task.targets[:,task.stim_length:,:],evecs,order)\n",
        "\n",
        "\n",
        "    # ===========================================\n",
        "    # == Visualize Results For This Experiment ==\n",
        "    # ===========================================\n",
        "\n",
        "    manifold_viz = ManifoldViz(manifold_out)\n",
        "    task_viz = TaskViz(task, activity, bci, order, dt=rnn.dt)\n",
        "    manifold_viz.save(join(exp_out_dir, \"Manifold.html\"), overwrite=True)\n",
        "    task_viz.save(join(exp_out_dir, \"Task.html\"), overwrite=True)\n",
        "\n",
        "\n",
        "    # ======================================\n",
        "    # == Save Results For This Experiment ==\n",
        "    # ======================================\n",
        "    print(\"Saving results for experiment...\")\n",
        "    cfg.save(join(exp_out_dir, \"result.pkl\"), manifold_out, overwrite=True)\n",
        "    print(\"Experiment complete!\\n\")\n",
        "\n",
        "\n",
        "  # ==============================================\n",
        "  # == Save Summary Results For All Experiments ==\n",
        "  # ==============================================\n",
        "  print(\"Saving summary results for all experiments...\")\n",
        "  summary_viz = ExperimentSummaryViz(experiments, eigenval_list)\n",
        "  summary_viz.save(join(root_out_dir, \"Summary.html\"), overwrite=True)"
      ]
    }
  ],
  "metadata": {
    "colab": {
      "collapsed_sections": [
        "B2bph5cR7aj5"
      ],
      "provenance": []
    },
    "kernel": {
      "display_name": "Python 3",
      "language": "python",
      "name": "python3"
    },
    "kernelspec": {
      "display_name": "Python 3",
      "name": "python3"
    },
    "language_info": {
      "codemirror_mode": {
        "name": "ipython",
        "version": 3
      },
      "file_extension": ".py",
      "mimetype": "text/x-python",
      "name": "python",
      "nbconvert_exporter": "python",
      "pygments_lexer": "ipython3",
      "version": "3.9.17"
    }
  },
  "nbformat": 4,
  "nbformat_minor": 0
}