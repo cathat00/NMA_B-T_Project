{
  "cells": [
    {
      "cell_type": "markdown",
      "metadata": {
        "execution": {},
        "id": "9X-qvMhHP4sy"
      },
      "source": [
        "## Setup\n",
        "Installs and imports necessary modules from Github.\n",
        "\n",
        "Trouble running this? Try restarting the Colab session (\"Runtime\" --> \"Restart Session\").\n",
        "\n",
        "If you're working in your own branch in the Github repo, change the wget commands to point towards that branch."
      ]
    },
    {
      "cell_type": "code",
      "execution_count": null,
      "metadata": {
        "id": "gJl1T98wW9ZD"
      },
      "outputs": [],
      "source": [
        "# Get all scripts from the modules folder in Github\n",
        "!mkdir -p modules\n",
        "base_url = \"https://raw.githubusercontent.com/cathat00/NMA_B-T_Project/main/modules/\"\n",
        "files = [\"configs.py\", \"plots.py\", \"network.py\", \"tasks.py\", \"bci.py\"]\n",
        "for file in files:\n",
        "    !wget -q \"{base_url}{file}\" -O \"modules/{file}\"\n",
        "\n",
        "# Imports for this script\n",
        "import numpy as np\n",
        "from os.path import join\n",
        "import modules.configs as configs\n",
        "import modules.plots as plots"
      ]
    },
    {
      "cell_type": "markdown",
      "metadata": {
        "id": "gQlc3ex9YrFm"
      },
      "source": [
        "##Train and Evaluate the Model"
      ]
    },
    {
      "cell_type": "code",
      "execution_count": null,
      "metadata": {
        "id": "c2OmpnKZYPdo",
        "outputId": "083874f0-af20-4c09-9a45-0643b1566a7e",
        "colab": {
          "base_uri": "https://localhost:8080/"
        }
      },
      "outputs": [
        {
          "output_type": "stream",
          "name": "stdout",
          "text": [
            "Starting experiment: 1Targets\n",
            "-- Stimulus Shape: (1, 200, 1)\n",
            "-- Targets Shape: (1, 200, 2)\n",
            "Training the RNN for 5 trials...\n"
          ]
        },
        {
          "output_type": "stream",
          "name": "stderr",
          "text": [
            "100%|██████████| 5/5 [00:31<00:00,  6.22s/it]\n"
          ]
        },
        {
          "output_type": "stream",
          "name": "stdout",
          "text": [
            "Computing manifold over 50 trials...\n"
          ]
        },
        {
          "output_type": "stream",
          "name": "stderr",
          "text": [
            "100%|██████████| 50/50 [00:03<00:00, 13.60it/s]\n"
          ]
        },
        {
          "output_type": "stream",
          "name": "stdout",
          "text": [
            "Saving results for experiment...\n",
            "Experiment complete!\n",
            "\n",
            "Starting experiment: 2Targets\n",
            "-- Stimulus Shape: (2, 200, 2)\n",
            "-- Targets Shape: (2, 200, 2)\n",
            "Training the RNN for 5 trials...\n"
          ]
        },
        {
          "output_type": "stream",
          "name": "stderr",
          "text": [
            "100%|██████████| 5/5 [00:29<00:00,  5.89s/it]\n"
          ]
        },
        {
          "output_type": "stream",
          "name": "stdout",
          "text": [
            "Computing manifold over 50 trials...\n"
          ]
        },
        {
          "output_type": "stream",
          "name": "stderr",
          "text": [
            "100%|██████████| 50/50 [00:06<00:00,  8.04it/s]\n"
          ]
        },
        {
          "output_type": "stream",
          "name": "stdout",
          "text": [
            "Saving results for experiment...\n",
            "Experiment complete!\n",
            "\n",
            "Saving summary results for all experiments...\n",
            "Zipping results folder...\n",
            "  adding: results/ (stored 0%)\n",
            "  adding: results/1Targets/ (stored 0%)\n",
            "  adding: results/1Targets/result.pkl (deflated 10%)\n",
            "  adding: results/1Targets/pca.html (deflated 57%)\n",
            "  adding: results/2Targets/ (stored 0%)\n",
            "  adding: results/2Targets/result.pkl (deflated 10%)\n",
            "  adding: results/2Targets/pca.html (deflated 57%)\n",
            "  adding: results/num_pcs_vs_targets.html (deflated 80%)\n",
            "Finished!\n"
          ]
        }
      ],
      "source": [
        "# ====================\n",
        "# == Initialization ==\n",
        "# ====================\n",
        "\n",
        "experiments = [1,2]#[1,2,3,4,5,6,7,8,9,10,11,12]\n",
        "eigenval_list = []\n",
        "root_out_dir = \"results\" # Root output directory\n",
        "\n",
        "# =====================\n",
        "# == Run Experiments ==\n",
        "# =====================\n",
        "\n",
        "for ntargets in experiments:\n",
        "\n",
        "  # ======================\n",
        "  # == Setup Experiment ==\n",
        "  # ======================\n",
        "\n",
        "  exp_name = f\"{ntargets}Targets\" # Name of this experiment\n",
        "  exp_out_dir = join(root_out_dir, exp_name)\n",
        "\n",
        "  cfg = configs.BasicExperimentConfig(ntargets=ntargets)\n",
        "  task = cfg.task # The task the RNN will learn\n",
        "  rnn = cfg.rnn # Recurrent Neural Network\n",
        "  bci = cfg.bci # Brain computer interface\n",
        "  feedback = cfg.feedback # Mathematically optimal feedback\n",
        "\n",
        "  print(f\"Starting experiment: {exp_name}\")\n",
        "  print(f\"-- Stimulus Shape: {task.stimuli.shape}\")\n",
        "  print(f\"-- Targets Shape: {task.targets.shape}\")\n",
        "\n",
        "  # =======================\n",
        "  # == Simulate Learning ==\n",
        "  # =======================\n",
        "\n",
        "  # -- Train the RNN\n",
        "  print(f\"Training the RNN for {cfg.ntrials} trials...\")\n",
        "  rnn.relearn(\n",
        "      ntrials=cfg.ntrials,\n",
        "      ext=task.stimuli,\n",
        "      ntstart=task.stim_length,\n",
        "      decoder=bci.decoder,\n",
        "      feedback=feedback,\n",
        "      target=task.targets,\n",
        "  )\n",
        "\n",
        "  # -- Compute Manifold\n",
        "  print(f\"Computing manifold over {cfg.ntrials_manifold} trials...\")\n",
        "  np.random.seed(2) # Set seed for manifold calculation...\n",
        "  manifold_data = rnn.get_manifold(task.stimuli, task.stim_length, ntrials=cfg.ntrials_manifold)\n",
        "  manifold_activity = manifold_data['proj_reshaped']\n",
        "  eigenvalues = manifold_data['eigenvals']\n",
        "  eigenval_list.append(eigenvalues)\n",
        "\n",
        "  # ===========================================\n",
        "  # == Visualize Results For This Experiment ==\n",
        "  # ===========================================\n",
        "  pca_fig = plots.plot_pca_summary(manifold_activity, eigenvalues)\n",
        "\n",
        "  # ======================================\n",
        "  # == Save Results For This Experiment ==\n",
        "  # ======================================\n",
        "  print(\"Saving results for experiment...\")\n",
        "  cfg.save(join(exp_out_dir, \"result.pkl\"), manifold_data, overwrite=True)\n",
        "  plots.save_figs([pca_fig], join(exp_out_dir, \"pca.html\"), overwrite=True)\n",
        "  print(\"Experiment complete!\\n\")\n",
        "\n",
        "# ==============================================\n",
        "# == Save Summary Results For All Experiments ==\n",
        "# ==============================================\n",
        "print(\"Saving summary results for all experiments...\")\n",
        "dim_fig = plots.plot_num_pcs_vs_targets(experiments, eigenval_list)\n",
        "plots.save_figs([dim_fig], join(root_out_dir, \"num_pcs_vs_targets.html\"))\n",
        "\n",
        "print(\"Zipping results folder...\")\n",
        "!zip -r \"./results.zip\" \"results\"\n",
        "print(\"Finished!\")"
      ]
    },
    {
      "cell_type": "code",
      "source": [],
      "metadata": {
        "id": "rgnfNTEPTw09"
      },
      "execution_count": null,
      "outputs": []
    }
  ],
  "metadata": {
    "colab": {
      "collapsed_sections": [
        "B2bph5cR7aj5"
      ],
      "provenance": []
    },
    "kernel": {
      "display_name": "Python 3",
      "language": "python",
      "name": "python3"
    },
    "kernelspec": {
      "display_name": "Python 3",
      "name": "python3"
    },
    "language_info": {
      "codemirror_mode": {
        "name": "ipython",
        "version": 3
      },
      "file_extension": ".py",
      "mimetype": "text/x-python",
      "name": "python",
      "nbconvert_exporter": "python",
      "pygments_lexer": "ipython3",
      "version": "3.9.17"
    }
  },
  "nbformat": 4,
  "nbformat_minor": 0
}