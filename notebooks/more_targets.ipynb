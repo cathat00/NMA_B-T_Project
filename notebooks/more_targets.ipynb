{
  "cells": [
    {
      "cell_type": "markdown",
      "metadata": {
        "execution": {},
        "id": "9X-qvMhHP4sy"
      },
      "source": [
        "## Setup\n",
        "Installs and imports necessary modules from Github.\n",
        "\n",
        "Trouble running this? Try restarting the Colab session (\"Runtime\" --> \"Restart Session\").\n",
        "\n",
        "If you're working in your own branch in the Github repo, change the wget commands to point towards that branch."
      ]
    },
    {
      "cell_type": "code",
      "execution_count": null,
      "metadata": {
        "id": "gJl1T98wW9ZD"
      },
      "outputs": [],
      "source": [
        "# Get all scripts from the modules folder in Github\n",
        "!mkdir -p modules\n",
        "base_url = \"https://raw.githubusercontent.com/cathat00/NMA_B-T_Project/calebs_newest_branch/modules/\"\n",
        "files = [\"configs.py\", \"plots.py\", \"network.py\", \"tasks.py\", \"bci.py\"]\n",
        "for file in files:\n",
        "    !wget -q \"{base_url}{file}\" -O \"modules/{file}\"\n",
        "\n",
        "# Imports for this script\n",
        "import numpy as np\n",
        "from os.path import join\n",
        "from modules.plots import TaskViz, ManifoldViz, ExperimentSummaryViz\n",
        "import modules.configs as configs"
      ]
    },
    {
      "cell_type": "markdown",
      "metadata": {
        "id": "gQlc3ex9YrFm"
      },
      "source": [
        "##Train and Evaluate the Model"
      ]
    },
    {
      "cell_type": "code",
      "execution_count": null,
      "metadata": {
        "colab": {
          "base_uri": "https://localhost:8080/"
        },
        "id": "c2OmpnKZYPdo",
        "outputId": "c818eefc-2fa8-4ca2-b11a-8c4be77a327d"
      },
      "outputs": [
        {
          "name": "stdout",
          "output_type": "stream",
          "text": [
            "Starting experiment: 1Targets\n",
            "-- Stimulus Shape: (1, 200, 1)\n",
            "-- Targets Shape: (1, 200, 2)\n",
            "Training the RNN for 5 trials...\n"
          ]
        },
        {
          "name": "stderr",
          "output_type": "stream",
          "text": [
            "100%|██████████| 5/5 [00:35<00:00,  7.19s/it]\n"
          ]
        },
        {
          "name": "stdout",
          "output_type": "stream",
          "text": [
            "Computing manifold over 50 trials...\n"
          ]
        },
        {
          "name": "stderr",
          "output_type": "stream",
          "text": [
            "100%|██████████| 50/50 [00:03<00:00, 13.59it/s]\n"
          ]
        },
        {
          "name": "stdout",
          "output_type": "stream",
          "text": [
            "Saving results for experiment...\n",
            "Experiment complete!\n",
            "\n",
            "Starting experiment: 2Targets\n",
            "-- Stimulus Shape: (2, 200, 2)\n",
            "-- Targets Shape: (2, 200, 2)\n",
            "Training the RNN for 5 trials...\n"
          ]
        },
        {
          "name": "stderr",
          "output_type": "stream",
          "text": [
            "100%|██████████| 5/5 [00:31<00:00,  6.28s/it]\n"
          ]
        },
        {
          "name": "stdout",
          "output_type": "stream",
          "text": [
            "Computing manifold over 50 trials...\n"
          ]
        },
        {
          "name": "stderr",
          "output_type": "stream",
          "text": [
            "100%|██████████| 50/50 [00:06<00:00,  7.85it/s]\n"
          ]
        },
        {
          "name": "stdout",
          "output_type": "stream",
          "text": [
            "Saving results for experiment...\n",
            "Experiment complete!\n",
            "\n",
            "Saving summary results for all experiments...\n",
            "Zipping results folder...\n",
            "updating: results/ (stored 0%)\n",
            "updating: results/1Targets/ (stored 0%)\n",
            "updating: results/1Targets/pca.html (deflated 72%)\n",
            "updating: results/1Targets/result.pkl (deflated 10%)\n",
            "updating: results/dimensionality.html (deflated 88%)\n",
            "updating: results/2Targets/ (stored 0%)\n",
            "updating: results/2Targets/pca.html (deflated 72%)\n",
            "updating: results/2Targets/result.pkl (deflated 10%)\n",
            "Finished!\n"
          ]
        }
      ],
      "source": [
        "# ====================\n",
        "# == Initialization ==\n",
        "# ====================\n",
        "\n",
        "seeds = [1,2,3,4,5]\n",
        "experiments = [1,2,3,4,5,6,7,8,9,10,11,12,13,14,15,16,17,18,19,20]\n",
        "eigenval_list = []\n",
        "\n",
        "\n",
        "# =====================\n",
        "# == Run Experiments ==   \n",
        "# =====================\n",
        "\n",
        "for seed in seeds:\n",
        "\n",
        "  root_out_dir = f\"./results/seed{seed}\"\n",
        "\n",
        "  for ntargets in experiments:\n",
        "\n",
        "\n",
        "    # ======================\n",
        "    # == Setup Experiment ==\n",
        "    # ======================\n",
        "\n",
        "    exp_name = f\"{ntargets}Targets\" # Name of this experiment\n",
        "    exp_out_dir = join(root_out_dir, exp_name)\n",
        "\n",
        "    cfg = configs.BasicExperimentConfig(ntrials=80, ntargets=ntargets, seed=seed)\n",
        "    task = cfg.task # The task the RNN will learn\n",
        "    rnn = cfg.rnn # Recurrent Neural Network\n",
        "    bci = cfg.bci # Brain computer interface\n",
        "\n",
        "    print(f\"Starting experiment: {exp_name}\")\n",
        "    print(f\"-- Random Seed: {seed}\")\n",
        "    print(f\"-- Stimulus Shape: {task.stimuli.shape}\")\n",
        "    print(f\"-- Targets Shape: {task.targets.shape}\")\n",
        "\n",
        "\n",
        "    # =======================\n",
        "    # == Simulate Learning ==\n",
        "    # =======================\n",
        "\n",
        "    # -- Train the RNN\n",
        "    rnn.relearn(cfg.ntrials, task.stimuli,\n",
        "                task.stim_length, bci.decoder,\n",
        "                cfg.feedback, task.targets)\n",
        "\n",
        "    # -- Compute manifold\n",
        "    manifold_out = rnn.calculate_manifold(\n",
        "       task.stimuli, \n",
        "       task.stim_length, \n",
        "       cfg.ntrials_manifold\n",
        "    )\n",
        "\n",
        "    proj = manifold_out['xi2'] # Reshaped projection\n",
        "    activity = manifold_out['activity_reshaped']\n",
        "    order = manifold_out['order'] # Target indices for each trial\n",
        "    evecs = manifold_out['evec'] # Eigenvectors\n",
        "\n",
        "    # -- Train BCI\n",
        "    bci.train(proj,task.targets[:,task.stim_length:,:],evecs,order)\n",
        "\n",
        "\n",
        "    # ===========================================\n",
        "    # == Visualize Results For This Experiment ==\n",
        "    # ===========================================\n",
        "    \n",
        "    manifold_viz = ManifoldViz(manifold_out)\n",
        "    task_viz = TaskViz(task, activity, bci, order, dt=rnn.dt)\n",
        "    manifold_viz.save(join(exp_out_dir, \"Manifold.html\"), overwrite=True)\n",
        "    task_viz.save(join(exp_out_dir, \"Task.html\"), overwrite=True)\n",
        "\n",
        "\n",
        "    # ======================================\n",
        "    # == Save Results For This Experiment ==\n",
        "    # ======================================\n",
        "    print(\"Saving results for experiment...\")\n",
        "    cfg.save(join(exp_out_dir, \"result.pkl\"), manifold_out, overwrite=True)\n",
        "    print(\"Experiment complete!\\n\")\n",
        "\n",
        "\n",
        "  # ==============================================\n",
        "  # == Save Summary Results For All Experiments ==\n",
        "  # ==============================================\n",
        "  print(\"Saving summary results for all experiments...\")\n",
        "  summary_viz = ExperimentSummaryViz(experiments, eigenval_list)\n",
        "  summary_viz.save(join(root_out_dir, \"Summary.html\"), overwrite=True)"
      ]
    }
  ],
  "metadata": {
    "colab": {
      "collapsed_sections": [
        "B2bph5cR7aj5"
      ],
      "provenance": []
    },
    "kernel": {
      "display_name": "Python 3",
      "language": "python",
      "name": "python3"
    },
    "kernelspec": {
      "display_name": "Python 3",
      "name": "python3"
    },
    "language_info": {
      "codemirror_mode": {
        "name": "ipython",
        "version": 3
      },
      "file_extension": ".py",
      "mimetype": "text/x-python",
      "name": "python",
      "nbconvert_exporter": "python",
      "pygments_lexer": "ipython3",
      "version": "3.9.17"
    }
  },
  "nbformat": 4,
  "nbformat_minor": 0
}
