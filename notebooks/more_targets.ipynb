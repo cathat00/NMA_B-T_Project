{
  "cells": [
    {
      "cell_type": "markdown",
      "metadata": {
        "execution": {},
        "id": "9X-qvMhHP4sy"
      },
      "source": [
        "## Setup\n",
        "Installs and imports necessary modules from Github.\n",
        "\n",
        "Trouble running this? Try restarting the Colab session (\"Runtime\" --> \"Restart Session\").\n",
        "\n",
        "If you're working in your own branch in the Github repo, change the wget commands to point towards that branch."
      ]
    },
    {
      "cell_type": "code",
      "execution_count": null,
      "metadata": {
        "id": "gJl1T98wW9ZD"
      },
      "outputs": [],
      "source": [
        "!mkdir -p modules\n",
        "!wget -q https://raw.githubusercontent.com/cathat00/NMA_B-T_Project/main/modules/network.py -O modules/network.py\n",
        "!wget -q https://raw.githubusercontent.com/cathat00/NMA_B-T_Project/main/modules/tasks.py -O modules/tasks.py\n",
        "!wget -q https://raw.githubusercontent.com/cathat00/NMA_B-T_Project/main/modules/bci.py -O modules/bci.py\n",
        "!wget -q https://raw.githubusercontent.com/cathat00/NMA_B-T_Project/main/modules/plots.py -O modules/plots.py\n",
        "\n",
        "import numpy as np\n",
        "import modules.tasks as tasks\n",
        "from modules.network import RNN\n",
        "from modules.bci import BCI\n",
        "from modules.plots import plot_pca_summary, save_figs, plot_num_pcs_vs_targets"
      ]
    },
    {
      "cell_type": "markdown",
      "metadata": {
        "id": "gQlc3ex9YrFm"
      },
      "source": [
        "##Train and Evaluate the Model"
      ]
    },
    {
      "cell_type": "code",
      "execution_count": null,
      "metadata": {
        "colab": {
          "base_uri": "https://localhost:8080/",
          "height": 1000
        },
        "id": "c2OmpnKZYPdo",
        "outputId": "b383200f-7b6f-4105-88a1-3e582ba87a25"
      },
      "outputs": [],
      "source": [
        "# ====================\n",
        "# == Initialization ==\n",
        "# ====================\n",
        "\n",
        "np.random.seed(2) # Random seed for this simulation\n",
        "\n",
        "experiments = [1,2,3,4,5,6,8,9,10,11,12]\n",
        "pca_viz_filepath = \"pca.html\"\n",
        "\n",
        "ntrials = 80 # Number of trials to train the RNN for\n",
        "ntrials_manifold = 80 # Number of trials for manifold computation\n",
        "all_pca_figs = []\n",
        "num_targets_list = []\n",
        "eigenval_list = []\n",
        "\n",
        "\n",
        "# =====================\n",
        "# == Run Experiments ==\n",
        "# =====================\n",
        "\n",
        "for ntargets in experiments:\n",
        "\n",
        "  print(f\"Running experiment with ntargets={ntargets}\")\n",
        "  task = tasks.BasicReachingTask(ntargets=ntargets) # The task the RNN will learn\n",
        "  rnn = RNN(N_in=task.ntargets, verbosity=1) # Recurrent Neural Network\n",
        "  bci = BCI(rnn, task.target_max) # Brain computer interface\n",
        "  feedback = np.linalg.pinv(bci.decoder) # Mathematically optimal feedback\n",
        "\n",
        "\n",
        "  # =======================\n",
        "  # == Simulate Learning ==\n",
        "  # =======================\n",
        "\n",
        "  # -- Train the RNN\n",
        "  print(f\"Training the RNN for {ntrials} trials...\")\n",
        "  rnn.relearn(\n",
        "      ntrials=ntrials,\n",
        "      ext=task.stimuli,\n",
        "      ntstart=task.stim_length,\n",
        "      decoder=bci.decoder,\n",
        "      feedback=feedback,\n",
        "      target=task.targets,\n",
        "      delta=20.,\n",
        "  )\n",
        "\n",
        "  # -- Compute Manifold\n",
        "  print(f\"Computing manifold over {ntrials_manifold} trials...\")\n",
        "  manifold_data = rnn.get_manifold(task.stimuli, task.stim_length)\n",
        "  manifold_activity = manifold_data['proj_reshaped']\n",
        "  eigenvalues = manifold_data['eigenvals']\n",
        "  num_targets_list.append(ntargets)\n",
        "  eigenval_list.append(eigenvalues)\n",
        "\n",
        "\n",
        "  # -- Train the BCI\n",
        "  # ... TODO (How should this work? Check Feulner's code.)\n",
        "\n",
        "\n",
        "  # =======================\n",
        "  # == Evaluate Learning ==\n",
        "  # =======================\n",
        "  # -- Calculate MSE\n",
        "  # (MSE must be computed retrospectively using the trained BCI)\n",
        "  # ... TODO\n",
        "  # -- Calculate Manifold Surface Area / Perturbation Sensitity\n",
        "  # ... TODO\n",
        "\n",
        "\n",
        "  # =======================\n",
        "  # == Visualize Results ==\n",
        "  # =======================\n",
        "  # -- Plot Manifold and Scree Plots\n",
        "  pca_fig = plot_pca_summary(manifold_activity, eigenvalues)\n",
        "  pca_fig.update_layout(title_text=f\"# of Targets = {ntargets}\")\n",
        "  all_pca_figs.append(pca_fig)\n",
        "  pca_fig.show()\n",
        "  print(\"Finished experiment!\\n\")\n",
        "\n",
        "# ================================\n",
        "# == Plot Dimensionality Summary ==\n",
        "# ================================\n",
        "dimen_fig = plot_num_pcs_vs_targets(num_targets_list, eigenval_list, eigenval_thresh=0.9)\n",
        "dimen_fig.show()\n",
        "\n",
        "# ==================\n",
        "# == Save Results ==\n",
        "# ==================\n",
        "print(f\"Saving visualizations to .html\")\n",
        "save_figs(all_pca_figs, \"pca.html\", overwrite=True)\n",
        "print(\"Finished!\")"
      ]
    }
  ],
  "metadata": {
    "colab": {
      "collapsed_sections": [
        "B2bph5cR7aj5"
      ],
      "provenance": []
    },
    "kernel": {
      "display_name": "Python 3",
      "language": "python",
      "name": "python3"
    },
    "kernelspec": {
      "display_name": "Python 3",
      "name": "python3"
    },
    "language_info": {
      "codemirror_mode": {
        "name": "ipython",
        "version": 3
      },
      "file_extension": ".py",
      "mimetype": "text/x-python",
      "name": "python",
      "nbconvert_exporter": "python",
      "pygments_lexer": "ipython3",
      "version": "3.9.17"
    }
  },
  "nbformat": 4,
  "nbformat_minor": 0
}
