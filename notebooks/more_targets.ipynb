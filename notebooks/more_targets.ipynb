{
  "cells": [
    {
      "cell_type": "markdown",
      "metadata": {
        "execution": {},
        "id": "9X-qvMhHP4sy"
      },
      "source": [
        "## Setup\n",
        "Installs and imports necessary modules from Github.\n",
        "\n",
        "Trouble running this? Try restarting the Colab session (\"Runtime\" --> \"Restart Session\").\n",
        "\n",
        "If you're working in your own branch in the Github repo, change the wget commands to point towards that branch."
      ]
    },
    {
      "cell_type": "code",
      "execution_count": 3,
      "metadata": {
        "id": "gJl1T98wW9ZD"
      },
      "outputs": [],
      "source": [
        "# Get all scripts from the modules folder in Github\n",
        "!mkdir -p modules\n",
        "base_url = \"https://raw.githubusercontent.com/cathat00/NMA_B-T_Project/lukes_branch/modules/\"\n",
        "files = [\"configs.py\", \"plots.py\", \"network.py\", \"tasks.py\", \"bci.py\"]\n",
        "for file in files:\n",
        "    !wget -q \"{base_url}{file}\" -O \"modules/{file}\"\n",
        "\n",
        "# Imports for this script\n",
        "import numpy as np\n",
        "from os.path import join\n",
        "from modules.plots import TaskViz, ManifoldViz, ExperimentSummaryViz\n",
        "import modules.tasks as tasks\n",
        "import modules.configs as configs\n",
        "import importlib"
      ]
    },
    {
      "cell_type": "markdown",
      "metadata": {
        "id": "gQlc3ex9YrFm"
      },
      "source": [
        "##Train and Evaluate the Model"
      ]
    },
    {
      "cell_type": "code",
      "execution_count": 6,
      "metadata": {
        "id": "c2OmpnKZYPdo",
        "outputId": "dc8208fa-7ee1-4dcf-ed33-61d2f3e7f8ef",
        "colab": {
          "base_uri": "https://localhost:8080/",
          "height": 443
        }
      },
      "outputs": [
        {
          "output_type": "stream",
          "name": "stdout",
          "text": [
            "Starting experiment: 1Targets\n",
            "-- Random Seed: 1\n",
            "-- Stimulus Shape: (6, 200, 6)\n",
            "-- Targets Shape: (6, 200, 2)\n"
          ]
        },
        {
          "output_type": "stream",
          "name": "stderr",
          "text": [
            "  0%|          | 0/80 [00:00<?, ?it/s]\n"
          ]
        },
        {
          "output_type": "error",
          "ename": "ValueError",
          "evalue": "shapes (800,1) and (6,) not aligned: 1 (dim 1) != 6 (dim 0)",
          "traceback": [
            "\u001b[0;31m---------------------------------------------------------------------------\u001b[0m",
            "\u001b[0;31mValueError\u001b[0m                                Traceback (most recent call last)",
            "\u001b[0;32m/tmp/ipython-input-6-2583477612.py\u001b[0m in \u001b[0;36m<cell line: 0>\u001b[0;34m()\u001b[0m\n\u001b[1;32m     44\u001b[0m \u001b[0;34m\u001b[0m\u001b[0m\n\u001b[1;32m     45\u001b[0m     \u001b[0;31m# -- Train the RNN\u001b[0m\u001b[0;34m\u001b[0m\u001b[0;34m\u001b[0m\u001b[0m\n\u001b[0;32m---> 46\u001b[0;31m     rnn.relearn(cfg.ntrials, task.stimuli,\n\u001b[0m\u001b[1;32m     47\u001b[0m                 \u001b[0mtask\u001b[0m\u001b[0;34m.\u001b[0m\u001b[0mstim_length\u001b[0m\u001b[0;34m,\u001b[0m \u001b[0mbci\u001b[0m\u001b[0;34m.\u001b[0m\u001b[0mdecoder\u001b[0m\u001b[0;34m,\u001b[0m\u001b[0;34m\u001b[0m\u001b[0;34m\u001b[0m\u001b[0m\n\u001b[1;32m     48\u001b[0m                 cfg.feedback, task.targets)\n",
            "\u001b[0;32m/content/modules/network.py\u001b[0m in \u001b[0;36mrelearn\u001b[0;34m(self, ntrials, ext, ntstart, decoder, feedback, target, wplastic)\u001b[0m\n\u001b[1;32m    166\u001b[0m \u001b[0;34m\u001b[0m\u001b[0m\n\u001b[1;32m    167\u001b[0m                 \u001b[0;31m# update units\u001b[0m\u001b[0;34m\u001b[0m\u001b[0;34m\u001b[0m\u001b[0m\n\u001b[0;32m--> 168\u001b[0;31m                 \u001b[0mself\u001b[0m\u001b[0;34m.\u001b[0m\u001b[0mupdate_neurons\u001b[0m\u001b[0;34m(\u001b[0m\u001b[0mext\u001b[0m\u001b[0;34m=\u001b[0m\u001b[0mext\u001b[0m\u001b[0;34m[\u001b[0m\u001b[0morder\u001b[0m\u001b[0;34m[\u001b[0m\u001b[0mt\u001b[0m\u001b[0;34m]\u001b[0m\u001b[0;34m,\u001b[0m\u001b[0mi\u001b[0m\u001b[0;34m]\u001b[0m\u001b[0;34m)\u001b[0m\u001b[0;34m\u001b[0m\u001b[0;34m\u001b[0m\u001b[0m\n\u001b[0m\u001b[1;32m    169\u001b[0m \u001b[0;34m\u001b[0m\u001b[0m\n\u001b[1;32m    170\u001b[0m                 \u001b[0;31m# learn\u001b[0m\u001b[0;34m\u001b[0m\u001b[0;34m\u001b[0m\u001b[0m\n",
            "\u001b[0;32m/content/modules/network.py\u001b[0m in \u001b[0;36mupdate_neurons\u001b[0;34m(self, ext)\u001b[0m\n\u001b[1;32m     89\u001b[0m     \u001b[0;32mdef\u001b[0m \u001b[0mupdate_neurons\u001b[0m\u001b[0;34m(\u001b[0m\u001b[0mself\u001b[0m\u001b[0;34m,\u001b[0m\u001b[0mext\u001b[0m\u001b[0;34m)\u001b[0m\u001b[0;34m:\u001b[0m\u001b[0;34m\u001b[0m\u001b[0;34m\u001b[0m\u001b[0m\n\u001b[1;32m     90\u001b[0m         \u001b[0mself\u001b[0m\u001b[0;34m.\u001b[0m\u001b[0mr\u001b[0m \u001b[0;34m=\u001b[0m \u001b[0mself\u001b[0m\u001b[0;34m.\u001b[0m\u001b[0mr\u001b[0m \u001b[0;34m+\u001b[0m \u001b[0mself\u001b[0m\u001b[0;34m.\u001b[0m\u001b[0mdt\u001b[0m\u001b[0;34m/\u001b[0m\u001b[0mself\u001b[0m\u001b[0;34m.\u001b[0m\u001b[0mtau\u001b[0m \u001b[0;34m*\u001b[0m\u001b[0;31m \u001b[0m\u001b[0;31m\\\u001b[0m\u001b[0;34m\u001b[0m\u001b[0;34m\u001b[0m\u001b[0m\n\u001b[0;32m---> 91\u001b[0;31m              \u001b[0;34m(\u001b[0m\u001b[0;34m-\u001b[0m\u001b[0mself\u001b[0m\u001b[0;34m.\u001b[0m\u001b[0mr\u001b[0m \u001b[0;34m+\u001b[0m \u001b[0mnp\u001b[0m\u001b[0;34m.\u001b[0m\u001b[0mdot\u001b[0m\u001b[0;34m(\u001b[0m\u001b[0mself\u001b[0m\u001b[0;34m.\u001b[0m\u001b[0mW\u001b[0m\u001b[0;34m,\u001b[0m \u001b[0mself\u001b[0m\u001b[0;34m.\u001b[0m\u001b[0mz\u001b[0m\u001b[0;34m)\u001b[0m \u001b[0;34m+\u001b[0m \u001b[0mnp\u001b[0m\u001b[0;34m.\u001b[0m\u001b[0mdot\u001b[0m\u001b[0;34m(\u001b[0m\u001b[0mself\u001b[0m\u001b[0;34m.\u001b[0m\u001b[0mW_in\u001b[0m\u001b[0;34m,\u001b[0m\u001b[0mext\u001b[0m\u001b[0;34m)\u001b[0m\u001b[0;34m)\u001b[0m\u001b[0;34m\u001b[0m\u001b[0;34m\u001b[0m\u001b[0m\n\u001b[0m\u001b[1;32m     92\u001b[0m \u001b[0;34m\u001b[0m\u001b[0m\n\u001b[1;32m     93\u001b[0m         \u001b[0mself\u001b[0m\u001b[0;34m.\u001b[0m\u001b[0mupdate_activation\u001b[0m\u001b[0;34m(\u001b[0m\u001b[0;34m)\u001b[0m\u001b[0;34m\u001b[0m\u001b[0;34m\u001b[0m\u001b[0m\n",
            "\u001b[0;31mValueError\u001b[0m: shapes (800,1) and (6,) not aligned: 1 (dim 1) != 6 (dim 0)"
          ]
        }
      ],
      "source": [
        "importlib.reload(tasks)\n",
        "\n",
        "# ====================\n",
        "# == Initialization ==\n",
        "# ====================\n",
        "\n",
        "seeds = [1,2,3,4,5]\n",
        "experiments = [1,2,3,4,5,6,7,8,9,10,11,12,13,14,15,16,17,18,19,20]\n",
        "eigenval_list = []\n",
        "\n",
        "\n",
        "# =====================\n",
        "# == Run Experiments ==\n",
        "# =====================\n",
        "\n",
        "for seed in seeds:\n",
        "\n",
        "  root_out_dir = f\"./results/seed{seed}\"\n",
        "\n",
        "  for ntargets in experiments:\n",
        "\n",
        "\n",
        "    # ======================\n",
        "    # == Setup Experiment ==\n",
        "    # ======================\n",
        "\n",
        "    exp_name = f\"{ntargets}Targets\" # Name of this experiment\n",
        "    exp_out_dir = join(root_out_dir, exp_name)\n",
        "\n",
        "    cfg = configs.BasicExperimentConfig(ntrials=80, ntargets=ntargets, seed=seed)\n",
        "    task =  tasks.GeometricReachingTask() # The task the RNN will learn\n",
        "    rnn = cfg.rnn # Recurrent Neural Network\n",
        "    bci = cfg.bci # Brain computer interface\n",
        "\n",
        "    print(f\"Starting experiment: {exp_name}\")\n",
        "    print(f\"-- Random Seed: {seed}\")\n",
        "    print(f\"-- Stimulus Shape: {task.stimuli.shape}\")\n",
        "    print(f\"-- Targets Shape: {task.targets.shape}\")\n",
        "\n",
        "\n",
        "    # =======================\n",
        "    # == Simulate Learning ==\n",
        "    # =======================\n",
        "\n",
        "    # -- Train the RNN\n",
        "    rnn.relearn(cfg.ntrials, task.stimuli,\n",
        "                task.stim_length, bci.decoder,\n",
        "                cfg.feedback, task.targets)\n",
        "\n",
        "    # -- Compute manifold\n",
        "    manifold_out = rnn.calculate_manifold(\n",
        "       task.stimuli,\n",
        "       task.stim_length,\n",
        "       cfg.ntrials_manifold\n",
        "    )\n",
        "\n",
        "    proj = manifold_out['xi2'] # Reshaped projection\n",
        "    activity = manifold_out['activity_reshaped']\n",
        "    order = manifold_out['order'] # Target indices for each trial\n",
        "    evecs = manifold_out['evec'] # Eigenvectors\n",
        "\n",
        "    # -- Train BCI\n",
        "    bci.train(proj,task.targets[:,task.stim_length:,:],evecs,order)\n",
        "\n",
        "\n",
        "    # ===========================================\n",
        "    # == Visualize Results For This Experiment ==\n",
        "    # ===========================================\n",
        "\n",
        "    manifold_viz = ManifoldViz(manifold_out)\n",
        "    task_viz = TaskViz(task, activity, bci, order, dt=rnn.dt)\n",
        "    manifold_viz.save(join(exp_out_dir, \"Manifold.html\"), overwrite=True)\n",
        "    task_viz.save(join(exp_out_dir, \"Task.html\"), overwrite=True)\n",
        "\n",
        "\n",
        "    # ======================================\n",
        "    # == Save Results For This Experiment ==\n",
        "    # ======================================\n",
        "    print(\"Saving results for experiment...\")\n",
        "    cfg.save(join(exp_out_dir, \"result.pkl\"), manifold_out, overwrite=True)\n",
        "    print(\"Experiment complete!\\n\")\n",
        "\n",
        "\n",
        "  # ==============================================\n",
        "  # == Save Summary Results For All Experiments ==\n",
        "  # ==============================================\n",
        "  print(\"Saving summary results for all experiments...\")\n",
        "  summary_viz = ExperimentSummaryViz(experiments, eigenval_list)\n",
        "  summary_viz.save(join(root_out_dir, \"Summary.html\"), overwrite=True)"
      ]
    },
    {
      "cell_type": "code",
      "source": [],
      "metadata": {
        "id": "JvDX1i2BvCFx"
      },
      "execution_count": null,
      "outputs": []
    }
  ],
  "metadata": {
    "colab": {
      "collapsed_sections": [
        "B2bph5cR7aj5"
      ],
      "provenance": []
    },
    "kernel": {
      "display_name": "Python 3",
      "language": "python",
      "name": "python3"
    },
    "kernelspec": {
      "display_name": "Python 3",
      "name": "python3"
    },
    "language_info": {
      "codemirror_mode": {
        "name": "ipython",
        "version": 3
      },
      "file_extension": ".py",
      "mimetype": "text/x-python",
      "name": "python",
      "nbconvert_exporter": "python",
      "pygments_lexer": "ipython3",
      "version": "3.9.17"
    }
  },
  "nbformat": 4,
  "nbformat_minor": 0
}