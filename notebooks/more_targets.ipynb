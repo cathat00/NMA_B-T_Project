{
  "cells": [
    {
      "cell_type": "markdown",
      "metadata": {
        "execution": {},
        "id": "9X-qvMhHP4sy"
      },
      "source": [
        "## Setup\n",
        "Installs and imports necessary modules from Github.\n",
        "\n",
        "Trouble running this? Try restarting the Colab session (\"Runtime\" --> \"Restart Session\").\n",
        "\n",
        "If you're working in your own branch in the Github repo, change the wget commands to point towards that branch."
      ]
    },
    {
      "cell_type": "code",
      "source": [
        "!mkdir -p modules\n",
        "!wget -q https://raw.githubusercontent.com/cathat00/NMA_B-T_Project/calebs_branch/modules/network.py -O modules/network.py\n",
        "!wget -q https://raw.githubusercontent.com/cathat00/NMA_B-T_Project/calebs_branch/modules/tasks.py -O modules/tasks.py\n",
        "!wget -q https://raw.githubusercontent.com/cathat00/NMA_B-T_Project/calebs_branch/modules/bci.py -O modules/bci.py\n",
        "!wget -q https://raw.githubusercontent.com/cathat00/NMA_B-T_Project/calebs_branch/modules/plots.py -O modules/plots.py\n",
        "\n",
        "import numpy as np\n",
        "import modules.tasks as tasks\n",
        "from modules.network import RNN\n",
        "from modules.bci import BCI\n",
        "from modules.plots import plot_pca_summary"
      ],
      "metadata": {
        "id": "gJl1T98wW9ZD"
      },
      "execution_count": 1,
      "outputs": []
    },
    {
      "cell_type": "markdown",
      "source": [
        "##Train and Evaluate the Model"
      ],
      "metadata": {
        "id": "gQlc3ex9YrFm"
      }
    },
    {
      "cell_type": "code",
      "source": [
        "# ====================\n",
        "# == Initialization ==\n",
        "# ====================\n",
        "\n",
        "np.random.seed(2) # Random seed for this simulation\n",
        "\n",
        "experiments = [1,2,3,4,5,6,8,9,10,11,12]\n",
        "pca_viz_filepath = \"pca.html\"\n",
        "\n",
        "ntrials = 80 # Number of trials to train the RNN for\n",
        "ntrials_manifold = 80 # Number of trials for manifold computation\n",
        "all_pca_figs = []\n",
        "\n",
        "\n",
        "# =====================\n",
        "# == Run Experiments ==\n",
        "# =====================\n",
        "\n",
        "for ntargets in experiments:\n",
        "\n",
        "  print(f\"Running experiment with ntargets={ntargets}\")\n",
        "  task = tasks.BasicReachingTask(ntargets=ntargets) # The task the RNN will learn\n",
        "  rnn = RNN(N_in=task.ntargets, verbosity=1) # Recurrent Neural Network\n",
        "  bci = BCI(rnn, task.target_max) # Brain computer interface\n",
        "  feedback = np.linalg.pinv(bci.decoder) # Mathematically optimal feedback\n",
        "\n",
        "\n",
        "  # =======================\n",
        "  # == Simulate Learning ==\n",
        "  # =======================\n",
        "\n",
        "  # -- Train the RNN\n",
        "  print(f\"Training the RNN for {ntrials} trials...\")\n",
        "  rnn.relearn(\n",
        "      ntrials=ntrials,\n",
        "      ext=task.stimuli,\n",
        "      ntstart=task.stim_length,\n",
        "      decoder=bci.decoder,\n",
        "      feedback=feedback,\n",
        "      target=task.targets,\n",
        "      delta=20.,\n",
        "  )\n",
        "\n",
        "  # -- Compute Manifold\n",
        "  print(f\"Computing manifold over {ntrials_manifold} trials...\")\n",
        "  manifold_data = rnn.get_manifold(task.stimuli, task.stim_length)\n",
        "  manifold_activity = manifold_data['proj']\n",
        "  eigenvalues = manifold_data['eigenvals']\n",
        "\n",
        "  # -- Train the BCI\n",
        "  # ... TODO (How should this work? Check Feulner's code.)\n",
        "\n",
        "\n",
        "  # =======================\n",
        "  # == Evaluate Learning ==\n",
        "  # =======================\n",
        "  # -- Calculate MSE\n",
        "  # (MSE must be computed retrospectively using the trained BCI)\n",
        "  # ... TODO\n",
        "  # -- Calculate Manifold Surface Area / Perturbation Sensitity\n",
        "  # ... TODO\n",
        "\n",
        "\n",
        "  # =======================\n",
        "  # == Visualize Results ==\n",
        "  # =======================\n",
        "  # -- Plot Manifold and Scree Plots\n",
        "  pca_fig = plot_pca_summary(manifold_activity, eigenvalues)\n",
        "  pca_fig.update_layout(title_text=f\"# of Targets = {ntargets}\")\n",
        "  all_pca_figs.append(pca_fig)\n",
        "  print(\"Finished experiment!\\n\")\n",
        "\n",
        "# ==================\n",
        "# == Save Results ==\n",
        "# ==================\n",
        "print(f\"Saving visualizations to .html\")\n",
        "save_figs(all_pca_figs, \"pca.html\", overwrite=True)\n",
        "print(\"Finished!\")"
      ],
      "metadata": {
        "id": "c2OmpnKZYPdo",
        "colab": {
          "base_uri": "https://localhost:8080/"
        },
        "outputId": "ec9108b7-c8f5-4a98-f16a-0fb836df6f76"
      },
      "execution_count": 5,
      "outputs": [
        {
          "output_type": "stream",
          "name": "stdout",
          "text": [
            "Running experiment with ntargets=1\n",
            "Training the RNN for 80 trials...\n"
          ]
        },
        {
          "output_type": "stream",
          "name": "stderr",
          "text": [
            "100%|██████████| 80/80 [06:46<00:00,  5.09s/it]\n"
          ]
        },
        {
          "output_type": "stream",
          "name": "stdout",
          "text": [
            "Computing manifold over 80 trials...\n"
          ]
        },
        {
          "output_type": "stream",
          "name": "stderr",
          "text": [
            "100%|██████████| 50/50 [00:04<00:00, 11.05it/s]\n"
          ]
        },
        {
          "output_type": "stream",
          "name": "stdout",
          "text": [
            "Finished experiment!\n",
            "\n",
            "Running experiment with ntargets=2\n",
            "Training the RNN for 80 trials...\n"
          ]
        },
        {
          "output_type": "stream",
          "name": "stderr",
          "text": [
            "100%|██████████| 80/80 [06:55<00:00,  5.19s/it]\n"
          ]
        },
        {
          "output_type": "stream",
          "name": "stdout",
          "text": [
            "Computing manifold over 80 trials...\n"
          ]
        },
        {
          "output_type": "stream",
          "name": "stderr",
          "text": [
            "100%|██████████| 50/50 [00:05<00:00,  8.44it/s]\n"
          ]
        },
        {
          "output_type": "stream",
          "name": "stdout",
          "text": [
            "Finished experiment!\n",
            "\n",
            "Running experiment with ntargets=3\n",
            "Training the RNN for 80 trials...\n"
          ]
        },
        {
          "output_type": "stream",
          "name": "stderr",
          "text": [
            "100%|██████████| 80/80 [06:48<00:00,  5.11s/it]\n"
          ]
        },
        {
          "output_type": "stream",
          "name": "stdout",
          "text": [
            "Computing manifold over 80 trials...\n"
          ]
        },
        {
          "output_type": "stream",
          "name": "stderr",
          "text": [
            "100%|██████████| 50/50 [00:03<00:00, 13.69it/s]\n"
          ]
        },
        {
          "output_type": "stream",
          "name": "stdout",
          "text": [
            "Finished experiment!\n",
            "\n",
            "Running experiment with ntargets=4\n",
            "Training the RNN for 80 trials...\n"
          ]
        },
        {
          "output_type": "stream",
          "name": "stderr",
          "text": [
            "100%|██████████| 80/80 [06:58<00:00,  5.23s/it]\n"
          ]
        },
        {
          "output_type": "stream",
          "name": "stdout",
          "text": [
            "Computing manifold over 80 trials...\n"
          ]
        },
        {
          "output_type": "stream",
          "name": "stderr",
          "text": [
            "100%|██████████| 50/50 [00:03<00:00, 13.41it/s]\n"
          ]
        },
        {
          "output_type": "stream",
          "name": "stdout",
          "text": [
            "Finished experiment!\n",
            "\n",
            "Running experiment with ntargets=5\n",
            "Training the RNN for 80 trials...\n"
          ]
        },
        {
          "output_type": "stream",
          "name": "stderr",
          "text": [
            "100%|██████████| 80/80 [06:55<00:00,  5.19s/it]\n"
          ]
        },
        {
          "output_type": "stream",
          "name": "stdout",
          "text": [
            "Computing manifold over 80 trials...\n"
          ]
        },
        {
          "output_type": "stream",
          "name": "stderr",
          "text": [
            "100%|██████████| 50/50 [00:03<00:00, 13.28it/s]\n"
          ]
        },
        {
          "output_type": "stream",
          "name": "stdout",
          "text": [
            "Finished experiment!\n",
            "\n",
            "Running experiment with ntargets=6\n",
            "Training the RNN for 80 trials...\n"
          ]
        },
        {
          "output_type": "stream",
          "name": "stderr",
          "text": [
            "100%|██████████| 80/80 [07:08<00:00,  5.35s/it]\n"
          ]
        },
        {
          "output_type": "stream",
          "name": "stdout",
          "text": [
            "Computing manifold over 80 trials...\n"
          ]
        },
        {
          "output_type": "stream",
          "name": "stderr",
          "text": [
            "100%|██████████| 50/50 [00:03<00:00, 13.11it/s]\n"
          ]
        },
        {
          "output_type": "stream",
          "name": "stdout",
          "text": [
            "Finished experiment!\n",
            "\n",
            "Running experiment with ntargets=8\n",
            "Training the RNN for 80 trials...\n"
          ]
        },
        {
          "output_type": "stream",
          "name": "stderr",
          "text": [
            "100%|██████████| 80/80 [06:57<00:00,  5.22s/it]\n"
          ]
        },
        {
          "output_type": "stream",
          "name": "stdout",
          "text": [
            "Computing manifold over 80 trials...\n"
          ]
        },
        {
          "output_type": "stream",
          "name": "stderr",
          "text": [
            "100%|██████████| 50/50 [00:03<00:00, 13.12it/s]\n"
          ]
        },
        {
          "output_type": "stream",
          "name": "stdout",
          "text": [
            "Finished experiment!\n",
            "\n",
            "Running experiment with ntargets=9\n",
            "Training the RNN for 80 trials...\n"
          ]
        },
        {
          "output_type": "stream",
          "name": "stderr",
          "text": [
            "100%|██████████| 80/80 [07:06<00:00,  5.33s/it]\n"
          ]
        },
        {
          "output_type": "stream",
          "name": "stdout",
          "text": [
            "Computing manifold over 80 trials...\n"
          ]
        },
        {
          "output_type": "stream",
          "name": "stderr",
          "text": [
            "100%|██████████| 50/50 [00:04<00:00, 10.12it/s]\n"
          ]
        },
        {
          "output_type": "stream",
          "name": "stdout",
          "text": [
            "Finished experiment!\n",
            "\n",
            "Running experiment with ntargets=10\n",
            "Training the RNN for 80 trials...\n"
          ]
        },
        {
          "output_type": "stream",
          "name": "stderr",
          "text": [
            "100%|██████████| 80/80 [07:02<00:00,  5.28s/it]\n"
          ]
        },
        {
          "output_type": "stream",
          "name": "stdout",
          "text": [
            "Computing manifold over 80 trials...\n"
          ]
        },
        {
          "output_type": "stream",
          "name": "stderr",
          "text": [
            "100%|██████████| 50/50 [00:03<00:00, 12.92it/s]\n"
          ]
        },
        {
          "output_type": "stream",
          "name": "stdout",
          "text": [
            "Finished experiment!\n",
            "\n",
            "Running experiment with ntargets=11\n",
            "Training the RNN for 80 trials...\n"
          ]
        },
        {
          "output_type": "stream",
          "name": "stderr",
          "text": [
            "100%|██████████| 80/80 [07:23<00:00,  5.54s/it]\n"
          ]
        },
        {
          "output_type": "stream",
          "name": "stdout",
          "text": [
            "Computing manifold over 80 trials...\n"
          ]
        },
        {
          "output_type": "stream",
          "name": "stderr",
          "text": [
            "100%|██████████| 50/50 [00:03<00:00, 13.03it/s]\n"
          ]
        },
        {
          "output_type": "stream",
          "name": "stdout",
          "text": [
            "Finished experiment!\n",
            "\n",
            "Running experiment with ntargets=12\n",
            "Training the RNN for 80 trials...\n"
          ]
        },
        {
          "output_type": "stream",
          "name": "stderr",
          "text": [
            "100%|██████████| 80/80 [07:09<00:00,  5.37s/it]\n"
          ]
        },
        {
          "output_type": "stream",
          "name": "stdout",
          "text": [
            "Computing manifold over 80 trials...\n"
          ]
        },
        {
          "output_type": "stream",
          "name": "stderr",
          "text": [
            "100%|██████████| 50/50 [00:05<00:00,  8.47it/s]\n"
          ]
        },
        {
          "output_type": "stream",
          "name": "stdout",
          "text": [
            "Finished experiment!\n",
            "\n",
            "Saving visualizations to ./results.html\n"
          ]
        }
      ]
    }
  ],
  "metadata": {
    "colab": {
      "collapsed_sections": [
        "B2bph5cR7aj5"
      ],
      "provenance": []
    },
    "kernel": {
      "display_name": "Python 3",
      "language": "python",
      "name": "python3"
    },
    "kernelspec": {
      "display_name": "Python 3",
      "name": "python3"
    },
    "language_info": {
      "codemirror_mode": {
        "name": "ipython",
        "version": 3
      },
      "file_extension": ".py",
      "mimetype": "text/x-python",
      "name": "python",
      "nbconvert_exporter": "python",
      "pygments_lexer": "ipython3",
      "version": "3.9.17"
    }
  },
  "nbformat": 4,
  "nbformat_minor": 0
}