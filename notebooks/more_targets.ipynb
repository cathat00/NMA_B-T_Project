{
  "cells": [
    {
      "cell_type": "markdown",
      "metadata": {
        "execution": {},
        "id": "9X-qvMhHP4sy"
      },
      "source": [
        "## Setup\n",
        "Installs and imports necessary modules from Github.\n",
        "\n",
        "Trouble running this? Try restarting the Colab session (\"Runtime\" --> \"Restart Session\").\n",
        "\n",
        "If you're working in your own branch in the Github repo, change the wget commands to point towards that branch."
      ]
    },
    {
      "cell_type": "code",
      "execution_count": 6,
      "metadata": {
        "id": "gJl1T98wW9ZD"
      },
      "outputs": [
        {
          "name": "stderr",
          "output_type": "stream",
          "text": [
            "'wget' is not recognized as an internal or external command,\n",
            "operable program or batch file.\n",
            "'wget' is not recognized as an internal or external command,\n",
            "operable program or batch file.\n",
            "'wget' is not recognized as an internal or external command,\n",
            "operable program or batch file.\n",
            "'wget' is not recognized as an internal or external command,\n",
            "operable program or batch file.\n",
            "'wget' is not recognized as an internal or external command,\n",
            "operable program or batch file.\n"
          ]
        }
      ],
      "source": [
        "# Get all scripts from the modules folder in Github\n",
        "!mkdir -p modules\n",
        "base_url = \"https://raw.githubusercontent.com/cathat00/NMA_B-T_Project/main/modules/\"\n",
        "files = [\"configs.py\", \"plots.py\", \"network.py\", \"tasks.py\", \"bci.py\"]\n",
        "for file in files:\n",
        "    !wget -q \"{base_url}{file}\" -O \"modules/{file}\"\n",
        "\n",
        "# Imports for this script\n",
        "import numpy as np\n",
        "from os.path import join\n",
        "import modules.configs as configs\n",
        "import modules.plots as plots"
      ]
    },
    {
      "cell_type": "code",
      "execution_count": null,
      "metadata": {},
      "outputs": [],
      "source": [
        "# ===============================\n",
        "# == LOCAL MODULES SETUP BLOCK ==\n",
        "# ===============================\n",
        "# Run this block if you want to use custom modules\n",
        "# from your local `modules/` directory, located one level up (../modules).\n",
        "'''\n",
        "import sys\n",
        "import os\n",
        "sys.path.append(os.path.abspath(\"..\"))\n",
        "import numpy as np\n",
        "from os.path import join\n",
        "import modules.configs as configs\n",
        "import modules.plots as plots\n",
        "\n",
        "# Reload modules to reflect recent edits without restarting the kernel\n",
        "import importlib\n",
        "importlib.reload(configs)\n",
        "importlib.reload(plots)\n",
        "'''"
      ]
    },
    {
      "cell_type": "markdown",
      "metadata": {
        "id": "gQlc3ex9YrFm"
      },
      "source": [
        "##Train and Evaluate the Model"
      ]
    },
    {
      "cell_type": "code",
      "execution_count": null,
      "metadata": {
        "id": "c2OmpnKZYPdo"
      },
      "outputs": [
        {
          "name": "stdout",
          "output_type": "stream",
          "text": [
            "Starting experiment: 1 Targets\n",
            "-- Stimulus Shape: (1, 200, 1)\n",
            "-- Targets Shape: (1, 200, 2)\n",
            "Training the RNN for 13 trials...\n"
          ]
        },
        {
          "name": "stderr",
          "output_type": "stream",
          "text": [
            "100%|██████████| 13/13 [00:37<00:00,  2.87s/it]\n"
          ]
        },
        {
          "name": "stdout",
          "output_type": "stream",
          "text": [
            "Computing manifold over 50 trials...\n"
          ]
        },
        {
          "name": "stderr",
          "output_type": "stream",
          "text": [
            "100%|██████████| 50/50 [00:02<00:00, 23.91it/s]\n"
          ]
        },
        {
          "name": "stdout",
          "output_type": "stream",
          "text": [
            "Saving results for experiment...\n",
            "Experiment complete!\n",
            "\n",
            "Starting experiment: 2 Targets\n",
            "-- Stimulus Shape: (2, 200, 2)\n",
            "-- Targets Shape: (2, 200, 2)\n",
            "Training the RNN for 26 trials...\n"
          ]
        },
        {
          "name": "stderr",
          "output_type": "stream",
          "text": [
            "100%|██████████| 26/26 [01:14<00:00,  2.86s/it]\n"
          ]
        },
        {
          "name": "stdout",
          "output_type": "stream",
          "text": [
            "Computing manifold over 50 trials...\n"
          ]
        },
        {
          "name": "stderr",
          "output_type": "stream",
          "text": [
            "100%|██████████| 50/50 [00:01<00:00, 29.39it/s]\n"
          ]
        },
        {
          "name": "stdout",
          "output_type": "stream",
          "text": [
            "Saving results for experiment...\n",
            "Experiment complete!\n",
            "\n",
            "Starting experiment: 3 Targets\n",
            "-- Stimulus Shape: (3, 200, 3)\n",
            "-- Targets Shape: (3, 200, 2)\n",
            "Training the RNN for 39 trials...\n"
          ]
        },
        {
          "name": "stderr",
          "output_type": "stream",
          "text": [
            "100%|██████████| 39/39 [01:53<00:00,  2.91s/it]\n"
          ]
        },
        {
          "name": "stdout",
          "output_type": "stream",
          "text": [
            "Computing manifold over 50 trials...\n"
          ]
        },
        {
          "name": "stderr",
          "output_type": "stream",
          "text": [
            "100%|██████████| 50/50 [00:01<00:00, 27.37it/s]\n"
          ]
        },
        {
          "name": "stdout",
          "output_type": "stream",
          "text": [
            "Saving results for experiment...\n",
            "Experiment complete!\n",
            "\n",
            "Starting experiment: 4 Targets\n",
            "-- Stimulus Shape: (4, 200, 4)\n",
            "-- Targets Shape: (4, 200, 2)\n",
            "Training the RNN for 52 trials...\n"
          ]
        },
        {
          "name": "stderr",
          "output_type": "stream",
          "text": [
            "100%|██████████| 52/52 [02:57<00:00,  3.41s/it]\n"
          ]
        },
        {
          "name": "stdout",
          "output_type": "stream",
          "text": [
            "Computing manifold over 50 trials...\n"
          ]
        },
        {
          "name": "stderr",
          "output_type": "stream",
          "text": [
            "100%|██████████| 50/50 [00:02<00:00, 18.39it/s]\n"
          ]
        },
        {
          "name": "stdout",
          "output_type": "stream",
          "text": [
            "Saving results for experiment...\n",
            "Experiment complete!\n",
            "\n",
            "Starting experiment: 5 Targets\n",
            "-- Stimulus Shape: (5, 200, 5)\n",
            "-- Targets Shape: (5, 200, 2)\n",
            "Training the RNN for 65 trials...\n"
          ]
        },
        {
          "name": "stderr",
          "output_type": "stream",
          "text": [
            "100%|██████████| 65/65 [03:46<00:00,  3.49s/it]\n"
          ]
        },
        {
          "name": "stdout",
          "output_type": "stream",
          "text": [
            "Computing manifold over 50 trials...\n"
          ]
        },
        {
          "name": "stderr",
          "output_type": "stream",
          "text": [
            "100%|██████████| 50/50 [00:02<00:00, 18.72it/s]\n"
          ]
        },
        {
          "name": "stdout",
          "output_type": "stream",
          "text": [
            "Saving results for experiment...\n",
            "Experiment complete!\n",
            "\n",
            "Starting experiment: 6 Targets\n",
            "-- Stimulus Shape: (6, 200, 6)\n",
            "-- Targets Shape: (6, 200, 2)\n",
            "Training the RNN for 78 trials...\n"
          ]
        },
        {
          "name": "stderr",
          "output_type": "stream",
          "text": [
            "100%|██████████| 78/78 [04:13<00:00,  3.25s/it]\n"
          ]
        },
        {
          "name": "stdout",
          "output_type": "stream",
          "text": [
            "Computing manifold over 50 trials...\n"
          ]
        },
        {
          "name": "stderr",
          "output_type": "stream",
          "text": [
            "100%|██████████| 50/50 [00:03<00:00, 13.94it/s]\n"
          ]
        },
        {
          "name": "stdout",
          "output_type": "stream",
          "text": [
            "Saving results for experiment...\n",
            "Experiment complete!\n",
            "\n",
            "Starting experiment: 7 Targets\n",
            "-- Stimulus Shape: (7, 200, 7)\n",
            "-- Targets Shape: (7, 200, 2)\n",
            "Training the RNN for 91 trials...\n"
          ]
        },
        {
          "name": "stderr",
          "output_type": "stream",
          "text": [
            "100%|██████████| 91/91 [03:45<00:00,  2.48s/it]\n"
          ]
        },
        {
          "name": "stdout",
          "output_type": "stream",
          "text": [
            "Computing manifold over 50 trials...\n"
          ]
        },
        {
          "name": "stderr",
          "output_type": "stream",
          "text": [
            "100%|██████████| 50/50 [00:01<00:00, 26.70it/s]\n"
          ]
        },
        {
          "name": "stdout",
          "output_type": "stream",
          "text": [
            "Saving results for experiment...\n",
            "Experiment complete!\n",
            "\n",
            "Starting experiment: 8 Targets\n",
            "-- Stimulus Shape: (8, 200, 8)\n",
            "-- Targets Shape: (8, 200, 2)\n",
            "Training the RNN for 104 trials...\n"
          ]
        },
        {
          "name": "stderr",
          "output_type": "stream",
          "text": [
            "100%|██████████| 104/104 [04:39<00:00,  2.69s/it]\n"
          ]
        },
        {
          "name": "stdout",
          "output_type": "stream",
          "text": [
            "Computing manifold over 50 trials...\n"
          ]
        },
        {
          "name": "stderr",
          "output_type": "stream",
          "text": [
            "100%|██████████| 50/50 [00:01<00:00, 26.02it/s]\n"
          ]
        },
        {
          "name": "stdout",
          "output_type": "stream",
          "text": [
            "Saving results for experiment...\n",
            "Experiment complete!\n",
            "\n",
            "Starting experiment: 9 Targets\n",
            "-- Stimulus Shape: (9, 200, 9)\n",
            "-- Targets Shape: (9, 200, 2)\n",
            "Training the RNN for 117 trials...\n"
          ]
        },
        {
          "name": "stderr",
          "output_type": "stream",
          "text": [
            "100%|██████████| 117/117 [05:04<00:00,  2.60s/it]\n"
          ]
        },
        {
          "name": "stdout",
          "output_type": "stream",
          "text": [
            "Computing manifold over 50 trials...\n"
          ]
        },
        {
          "name": "stderr",
          "output_type": "stream",
          "text": [
            "100%|██████████| 50/50 [00:01<00:00, 25.74it/s]\n"
          ]
        },
        {
          "name": "stdout",
          "output_type": "stream",
          "text": [
            "Saving results for experiment...\n",
            "Experiment complete!\n",
            "\n",
            "Starting experiment: 10 Targets\n",
            "-- Stimulus Shape: (10, 200, 10)\n",
            "-- Targets Shape: (10, 200, 2)\n",
            "Training the RNN for 130 trials...\n"
          ]
        },
        {
          "name": "stderr",
          "output_type": "stream",
          "text": [
            "100%|██████████| 130/130 [05:59<00:00,  2.77s/it]\n"
          ]
        },
        {
          "name": "stdout",
          "output_type": "stream",
          "text": [
            "Computing manifold over 50 trials...\n"
          ]
        },
        {
          "name": "stderr",
          "output_type": "stream",
          "text": [
            "100%|██████████| 50/50 [00:02<00:00, 19.02it/s]\n"
          ]
        },
        {
          "name": "stdout",
          "output_type": "stream",
          "text": [
            "Saving results for experiment...\n",
            "Experiment complete!\n",
            "\n",
            "Starting experiment: 11 Targets\n",
            "-- Stimulus Shape: (11, 200, 11)\n",
            "-- Targets Shape: (11, 200, 2)\n",
            "Training the RNN for 143 trials...\n"
          ]
        },
        {
          "name": "stderr",
          "output_type": "stream",
          "text": [
            "100%|██████████| 143/143 [08:46<00:00,  3.68s/it]\n"
          ]
        },
        {
          "name": "stdout",
          "output_type": "stream",
          "text": [
            "Computing manifold over 50 trials...\n"
          ]
        },
        {
          "name": "stderr",
          "output_type": "stream",
          "text": [
            "100%|██████████| 50/50 [00:02<00:00, 17.79it/s]\n"
          ]
        },
        {
          "name": "stdout",
          "output_type": "stream",
          "text": [
            "Saving results for experiment...\n",
            "Experiment complete!\n",
            "\n",
            "Starting experiment: 12 Targets\n",
            "-- Stimulus Shape: (12, 200, 12)\n",
            "-- Targets Shape: (12, 200, 2)\n",
            "Training the RNN for 156 trials...\n"
          ]
        },
        {
          "name": "stderr",
          "output_type": "stream",
          "text": [
            "100%|██████████| 156/156 [07:25<00:00,  2.86s/it]\n"
          ]
        },
        {
          "name": "stdout",
          "output_type": "stream",
          "text": [
            "Computing manifold over 50 trials...\n"
          ]
        },
        {
          "name": "stderr",
          "output_type": "stream",
          "text": [
            "100%|██████████| 50/50 [00:02<00:00, 17.52it/s]\n"
          ]
        },
        {
          "name": "stdout",
          "output_type": "stream",
          "text": [
            "Saving results for experiment...\n",
            "Experiment complete!\n",
            "\n",
            "Saving summary results for all experiments...\n",
            "Zipping results folder...\n",
            "  adding: results/ (164 bytes security) (stored 0%)\n",
            "  adding: results/1 Targets/ (164 bytes security) (stored 0%)\n",
            "  adding: results/1 Targets/pca.html (164 bytes security) (deflated 57%)\n",
            "  adding: results/1 Targets/result.pkl (164 bytes security) (deflated 10%)\n",
            "  adding: results/10 Targets/ (164 bytes security) (stored 0%)\n",
            "  adding: results/10 Targets/pca.html (164 bytes security) (deflated 57%)\n",
            "  adding: results/10 Targets/result.pkl (164 bytes security) (deflated 10%)\n",
            "  adding: results/11 Targets/ (164 bytes security) (stored 0%)\n",
            "  adding: results/11 Targets/pca.html (164 bytes security) (deflated 57%)\n",
            "  adding: results/11 Targets/result.pkl (164 bytes security) (deflated 10%)\n",
            "  adding: results/12 Targets/ (164 bytes security) (stored 0%)\n",
            "  adding: results/12 Targets/pca.html (164 bytes security) (deflated 57%)\n",
            "  adding: results/12 Targets/result.pkl (164 bytes security) (deflated 10%)\n",
            "  adding: results/2 Targets/ (164 bytes security) (stored 0%)\n",
            "  adding: results/2 Targets/pca.html (164 bytes security) (deflated 57%)\n",
            "  adding: results/2 Targets/result.pkl (164 bytes security) (deflated 10%)\n",
            "  adding: results/3 Targets/ (164 bytes security) (stored 0%)\n",
            "  adding: results/3 Targets/pca.html (164 bytes security) (deflated 57%)\n",
            "  adding: results/3 Targets/result.pkl (164 bytes security) (deflated 10%)\n",
            "  adding: results/4 Targets/ (164 bytes security) (stored 0%)\n",
            "  adding: results/4 Targets/pca.html (164 bytes security) (deflated 57%)\n",
            "  adding: results/4 Targets/result.pkl (164 bytes security) (deflated 10%)\n",
            "  adding: results/5 Targets/ (164 bytes security) (stored 0%)\n",
            "  adding: results/5 Targets/pca.html (164 bytes security) (deflated 57%)\n",
            "  adding: results/5 Targets/result.pkl (164 bytes security) (deflated 10%)\n",
            "  adding: results/6 Targets/ (164 bytes security) (stored 0%)\n",
            "  adding: results/6 Targets/pca.html (164 bytes security) (deflated 57%)\n",
            "  adding: results/6 Targets/result.pkl (164 bytes security) (deflated 10%)\n",
            "  adding: results/7 Targets/ (164 bytes security) (stored 0%)\n",
            "  adding: results/7 Targets/pca.html (164 bytes security) (deflated 57%)\n",
            "  adding: results/7 Targets/result.pkl (164 bytes security) (deflated 10%)\n",
            "  adding: results/8 Targets/ (164 bytes security) (stored 0%)\n",
            "  adding: results/8 Targets/pca.html (164 bytes security) (deflated 57%)\n",
            "  adding: results/8 Targets/result.pkl (164 bytes security) (deflated 10%)\n",
            "  adding: results/9 Targets/ (164 bytes security) (stored 0%)\n",
            "  adding: results/9 Targets/pca.html (164 bytes security) (deflated 57%)\n",
            "  adding: results/9 Targets/result.pkl (164 bytes security) (deflated 10%)\n",
            "  adding: results/num_pcs_vs_targets.html (164 bytes security) (deflated 80%)\n",
            "Finished!\n"
          ]
        }
      ],
      "source": [
        "# ====================\n",
        "# == Initialization ==\n",
        "# ====================\n",
        "\n",
        "experiments = [1,2,3,4,5,6,7,8,9,10,11,12]\n",
        "eigenval_list = []\n",
        "root_out_dir = \"results\" # Root output directory\n",
        "\n",
        "# =====================\n",
        "# == Run Experiments ==\n",
        "# =====================\n",
        "\n",
        "for ntargets in experiments:\n",
        "\n",
        "  # ======================\n",
        "  # == Setup Experiment ==\n",
        "  # ======================\n",
        "\n",
        "  exp_name = f\"{ntargets} Targets\" # Name of this experiment\n",
        "  exp_out_dir = join(root_out_dir, exp_name)\n",
        "\n",
        "  cfg = configs.BasicExperimentConfig(ntargets=ntargets)\n",
        "  task = cfg.task # The task the RNN will learn\n",
        "  rnn = cfg.rnn # Recurrent Neural Network\n",
        "  bci = cfg.bci # Brain computer interface\n",
        "  feedback = cfg.feedback # Mathematically optimal feedback\n",
        "\n",
        "  print(f\"Starting experiment: {exp_name}\")\n",
        "  print(f\"-- Stimulus Shape: {task.stimuli.shape}\")\n",
        "  print(f\"-- Targets Shape: {task.targets.shape}\")\n",
        "\n",
        "  # =======================\n",
        "  # == Simulate Learning ==\n",
        "  # =======================\n",
        "\n",
        "  # -- Train the RNN\n",
        "  print(f\"Training the RNN for {int(cfg.ntrials/6) * ntargets} trials...\")\n",
        "  rnn.relearn(\n",
        "      ntrials=int(cfg.ntrials/6) * ntargets,\n",
        "      ext=task.stimuli,\n",
        "      ntstart=task.stim_length,\n",
        "      decoder=bci.decoder,\n",
        "      feedback=feedback,\n",
        "      target=task.targets,\n",
        "  )\n",
        "\n",
        "  # -- Compute Manifold\n",
        "  print(f\"Computing manifold over {cfg.ntrials_manifold} trials...\")\n",
        "  np.random.seed(2) # Set seed for manifold calculation...\n",
        "  manifold_data = rnn.get_manifold(task.stimuli, task.stim_length, ntrials=cfg.ntrials_manifold)\n",
        "  manifold_activity = manifold_data['proj_reshaped']\n",
        "  eigenvalues = manifold_data['eigenvals']\n",
        "  eigenval_list.append(eigenvalues)\n",
        "\n",
        "  # ===========================================\n",
        "  # == Visualize Results For This Experiment ==\n",
        "  # ===========================================\n",
        "  pca_fig = plots.plot_pca_summary(manifold_activity, eigenvalues)\n",
        "\n",
        "  # ======================================\n",
        "  # == Save Results For This Experiment ==\n",
        "  # ======================================\n",
        "  print(\"Saving results for experiment...\")\n",
        "  cfg.save(join(exp_out_dir, \"result.pkl\"), manifold_data, overwrite=True)\n",
        "  plots.save_figs([pca_fig], join(exp_out_dir, \"pca.html\"), overwrite=True)\n",
        "  print(\"Experiment complete!\\n\")\n",
        "\n",
        "# ==============================================\n",
        "# == Save Summary Results For All Experiments ==\n",
        "# ==============================================\n",
        "print(\"Saving summary results for all experiments...\")\n",
        "dim_fig = plots.plot_num_pcs_vs_targets(experiments, eigenval_list)\n",
        "plots.save_figs([dim_fig], join(root_out_dir, \"num_pcs_vs_targets.html\"))\n",
        "\n",
        "var_expl_fig = plots.plot_var_explained_topk_pcs_vs_targets(experiments, eigenval_list, max_k=30, default_k=2)\n",
        "plots.save_figs([var_expl_fig], join(root_out_dir, \"var_expl.html\"))\n",
        "\n",
        "print(\"Zipping results folder...\")\n",
        "!zip -r \"./results.zip\" \"results\"\n",
        "print(\"Finished!\")"
      ]
    },
    {
      "cell_type": "code",
      "execution_count": null,
      "metadata": {},
      "outputs": [
        {
          "data": {
            "application/vnd.plotly.v1+json": {
              "config": {
                "plotlyServerURL": "https://plot.ly"
              },
              "data": [
                {
                  "marker": {
                    "color": "royalblue"
                  },
                  "name": "Top 1 PCs",
                  "type": "bar",
                  "visible": false,
                  "width": 0.6,
                  "x": [
                    "1",
                    "2",
                    "3",
                    "4",
                    "5",
                    "6",
                    "7",
                    "8",
                    "9",
                    "10",
                    "11",
                    "12"
                  ],
                  "y": [
                    0.42966461460749,
                    0.676066627365893,
                    0.4384289400256712,
                    0.3755796944558569,
                    0.36695624752261136,
                    0.3885819705772353,
                    0.37619530597076195,
                    0.4269605311280795,
                    0.36692136384556173,
                    0.3704252531685455,
                    0.4006698501499957,
                    0.3608544110149839
                  ]
                },
                {
                  "marker": {
                    "color": "royalblue"
                  },
                  "name": "Top 2 PCs",
                  "type": "bar",
                  "visible": true,
                  "width": 0.6,
                  "x": [
                    "1",
                    "2",
                    "3",
                    "4",
                    "5",
                    "6",
                    "7",
                    "8",
                    "9",
                    "10",
                    "11",
                    "12"
                  ],
                  "y": [
                    0.5829693794793314,
                    0.771037834790614,
                    0.7058908787477212,
                    0.713481856552576,
                    0.6810199445849212,
                    0.6750921239159703,
                    0.6955949454948922,
                    0.6995584325507089,
                    0.6471811441095376,
                    0.6301207778706361,
                    0.6411289811933383,
                    0.6632807239432759
                  ]
                },
                {
                  "marker": {
                    "color": "royalblue"
                  },
                  "name": "Top 3 PCs",
                  "type": "bar",
                  "visible": false,
                  "width": 0.6,
                  "x": [
                    "1",
                    "2",
                    "3",
                    "4",
                    "5",
                    "6",
                    "7",
                    "8",
                    "9",
                    "10",
                    "11",
                    "12"
                  ],
                  "y": [
                    0.6442055939077423,
                    0.8205035307767667,
                    0.7514933930293618,
                    0.7564905425557755,
                    0.7210661545651158,
                    0.7144354421860829,
                    0.7353201771703263,
                    0.7337302730633836,
                    0.6875153624592713,
                    0.6696484427762833,
                    0.67684059215005,
                    0.7009200578307949
                  ]
                },
                {
                  "marker": {
                    "color": "royalblue"
                  },
                  "name": "Top 4 PCs",
                  "type": "bar",
                  "visible": false,
                  "width": 0.6,
                  "x": [
                    "1",
                    "2",
                    "3",
                    "4",
                    "5",
                    "6",
                    "7",
                    "8",
                    "9",
                    "10",
                    "11",
                    "12"
                  ],
                  "y": [
                    0.6813377847887677,
                    0.847831571026997,
                    0.7937560856276552,
                    0.7924351970345627,
                    0.7538195085809942,
                    0.7505321708939413,
                    0.7612550231736097,
                    0.7577895653892233,
                    0.7200544446510115,
                    0.7007733982841367,
                    0.7102753695639603,
                    0.7262051900756659
                  ]
                },
                {
                  "marker": {
                    "color": "royalblue"
                  },
                  "name": "Top 5 PCs",
                  "type": "bar",
                  "visible": false,
                  "width": 0.6,
                  "x": [
                    "1",
                    "2",
                    "3",
                    "4",
                    "5",
                    "6",
                    "7",
                    "8",
                    "9",
                    "10",
                    "11",
                    "12"
                  ],
                  "y": [
                    0.7071018539351668,
                    0.8717709154510571,
                    0.8207319947703942,
                    0.8199163464280369,
                    0.7817884547338594,
                    0.7750156496851258,
                    0.7844885079548743,
                    0.7788786058751029,
                    0.7394440360058051,
                    0.7297462397380228,
                    0.7329871418913767,
                    0.7489305236328138
                  ]
                },
                {
                  "marker": {
                    "color": "royalblue"
                  },
                  "name": "Top 6 PCs",
                  "type": "bar",
                  "visible": false,
                  "width": 0.6,
                  "x": [
                    "1",
                    "2",
                    "3",
                    "4",
                    "5",
                    "6",
                    "7",
                    "8",
                    "9",
                    "10",
                    "11",
                    "12"
                  ],
                  "y": [
                    0.7320422341156737,
                    0.8867931693285908,
                    0.8404440387184318,
                    0.837703388422954,
                    0.8062395097500449,
                    0.796449578965674,
                    0.8017789675505369,
                    0.7984971602363217,
                    0.7572950911849623,
                    0.7500630944463729,
                    0.7515348576873827,
                    0.7693224133074157
                  ]
                },
                {
                  "marker": {
                    "color": "royalblue"
                  },
                  "name": "Top 7 PCs",
                  "type": "bar",
                  "visible": false,
                  "width": 0.6,
                  "x": [
                    "1",
                    "2",
                    "3",
                    "4",
                    "5",
                    "6",
                    "7",
                    "8",
                    "9",
                    "10",
                    "11",
                    "12"
                  ],
                  "y": [
                    0.7528916447917801,
                    0.8968516969670576,
                    0.8566347897214333,
                    0.852446927913327,
                    0.8240183055471875,
                    0.814808476383968,
                    0.8178717507165886,
                    0.811507888702723,
                    0.7736973080765398,
                    0.7677996746385012,
                    0.7673427931803061,
                    0.7840134694136978
                  ]
                },
                {
                  "marker": {
                    "color": "royalblue"
                  },
                  "name": "Top 8 PCs",
                  "type": "bar",
                  "visible": false,
                  "width": 0.6,
                  "x": [
                    "1",
                    "2",
                    "3",
                    "4",
                    "5",
                    "6",
                    "7",
                    "8",
                    "9",
                    "10",
                    "11",
                    "12"
                  ],
                  "y": [
                    0.7715791179349585,
                    0.9045987044659137,
                    0.8682835306021335,
                    0.8665079622840445,
                    0.8385650369110584,
                    0.8288894902540975,
                    0.832465251750174,
                    0.823061540782869,
                    0.7889090025363443,
                    0.7826183288285742,
                    0.7823845344005362,
                    0.7979036621794499
                  ]
                },
                {
                  "marker": {
                    "color": "royalblue"
                  },
                  "name": "Top 9 PCs",
                  "type": "bar",
                  "visible": false,
                  "width": 0.6,
                  "x": [
                    "1",
                    "2",
                    "3",
                    "4",
                    "5",
                    "6",
                    "7",
                    "8",
                    "9",
                    "10",
                    "11",
                    "12"
                  ],
                  "y": [
                    0.7871139827534559,
                    0.9109753425087891,
                    0.8782171513080703,
                    0.8757931992854951,
                    0.8506284818177547,
                    0.8413231729685161,
                    0.8455439490902286,
                    0.8341223482603078,
                    0.8025375201566382,
                    0.7950871587592195,
                    0.7942707432688899,
                    0.8095459579114342
                  ]
                },
                {
                  "marker": {
                    "color": "royalblue"
                  },
                  "name": "Top 10 PCs",
                  "type": "bar",
                  "visible": false,
                  "width": 0.6,
                  "x": [
                    "1",
                    "2",
                    "3",
                    "4",
                    "5",
                    "6",
                    "7",
                    "8",
                    "9",
                    "10",
                    "11",
                    "12"
                  ],
                  "y": [
                    0.8011706355560528,
                    0.9162934192241659,
                    0.8873772995803789,
                    0.8845327677521739,
                    0.8606829644321322,
                    0.8521475763403129,
                    0.8561991992441346,
                    0.8442198059868143,
                    0.8142623639739031,
                    0.8068482383128386,
                    0.8050125081840299,
                    0.8205499270364545
                  ]
                },
                {
                  "marker": {
                    "color": "royalblue"
                  },
                  "name": "Top 11 PCs",
                  "type": "bar",
                  "visible": false,
                  "width": 0.6,
                  "x": [
                    "1",
                    "2",
                    "3",
                    "4",
                    "5",
                    "6",
                    "7",
                    "8",
                    "9",
                    "10",
                    "11",
                    "12"
                  ],
                  "y": [
                    0.8126553894999177,
                    0.921402147694551,
                    0.8955359327519475,
                    0.8927509858381951,
                    0.8700320943859836,
                    0.8618428827605267,
                    0.8658482095714422,
                    0.8534071765705561,
                    0.824789741738764,
                    0.8166972165095492,
                    0.8144103166654523,
                    0.8295596082911594
                  ]
                },
                {
                  "marker": {
                    "color": "royalblue"
                  },
                  "name": "Top 12 PCs",
                  "type": "bar",
                  "visible": false,
                  "width": 0.6,
                  "x": [
                    "1",
                    "2",
                    "3",
                    "4",
                    "5",
                    "6",
                    "7",
                    "8",
                    "9",
                    "10",
                    "11",
                    "12"
                  ],
                  "y": [
                    0.8226623970305822,
                    0.9258682224869371,
                    0.9025789494184274,
                    0.8994991743044635,
                    0.8791447560457091,
                    0.8708644759497763,
                    0.8751861366325532,
                    0.8619792121041137,
                    0.8346461351503422,
                    0.8259416253483667,
                    0.8232363324282596,
                    0.8380367647388115
                  ]
                },
                {
                  "marker": {
                    "color": "royalblue"
                  },
                  "name": "Top 13 PCs",
                  "type": "bar",
                  "visible": false,
                  "width": 0.6,
                  "x": [
                    "1",
                    "2",
                    "3",
                    "4",
                    "5",
                    "6",
                    "7",
                    "8",
                    "9",
                    "10",
                    "11",
                    "12"
                  ],
                  "y": [
                    0.8323420902962196,
                    0.9297859596853602,
                    0.9081121357251639,
                    0.9050937617167798,
                    0.8864707870113404,
                    0.8789216567420336,
                    0.8831183561643867,
                    0.869716793742083,
                    0.8442672983040205,
                    0.8348612133284887,
                    0.8314598555771614,
                    0.8458617318681999
                  ]
                },
                {
                  "marker": {
                    "color": "royalblue"
                  },
                  "name": "Top 14 PCs",
                  "type": "bar",
                  "visible": false,
                  "width": 0.6,
                  "x": [
                    "1",
                    "2",
                    "3",
                    "4",
                    "5",
                    "6",
                    "7",
                    "8",
                    "9",
                    "10",
                    "11",
                    "12"
                  ],
                  "y": [
                    0.8406915664737888,
                    0.9333508744012621,
                    0.9130034066262774,
                    0.9100005406149837,
                    0.8931023901162853,
                    0.8858003017205133,
                    0.8895778721009485,
                    0.8767614152641023,
                    0.8527884201959248,
                    0.8428357478918308,
                    0.8392409269183956,
                    0.8530916540847363
                  ]
                },
                {
                  "marker": {
                    "color": "royalblue"
                  },
                  "name": "Top 15 PCs",
                  "type": "bar",
                  "visible": false,
                  "width": 0.6,
                  "x": [
                    "1",
                    "2",
                    "3",
                    "4",
                    "5",
                    "6",
                    "7",
                    "8",
                    "9",
                    "10",
                    "11",
                    "12"
                  ],
                  "y": [
                    0.8485218294224087,
                    0.9366469970027071,
                    0.917455869313497,
                    0.9145691714974781,
                    0.8994231236030931,
                    0.8920039459699506,
                    0.8957728462665269,
                    0.8831993235326377,
                    0.8609831803293525,
                    0.8504057268830935,
                    0.8459752765206393,
                    0.8598133309683771
                  ]
                },
                {
                  "marker": {
                    "color": "royalblue"
                  },
                  "name": "Top 16 PCs",
                  "type": "bar",
                  "visible": false,
                  "width": 0.6,
                  "x": [
                    "1",
                    "2",
                    "3",
                    "4",
                    "5",
                    "6",
                    "7",
                    "8",
                    "9",
                    "10",
                    "11",
                    "12"
                  ],
                  "y": [
                    0.8556124371252373,
                    0.9397421047192123,
                    0.9211280755277237,
                    0.918800242311884,
                    0.904790040694384,
                    0.8971512867433258,
                    0.9014116920605724,
                    0.8894839577581721,
                    0.8689024480447064,
                    0.8575808361038636,
                    0.8525396318994211,
                    0.8663305690992286
                  ]
                },
                {
                  "marker": {
                    "color": "royalblue"
                  },
                  "name": "Top 17 PCs",
                  "type": "bar",
                  "visible": false,
                  "width": 0.6,
                  "x": [
                    "1",
                    "2",
                    "3",
                    "4",
                    "5",
                    "6",
                    "7",
                    "8",
                    "9",
                    "10",
                    "11",
                    "12"
                  ],
                  "y": [
                    0.8620253964129819,
                    0.9425265390618576,
                    0.9246560465132028,
                    0.9226481272412747,
                    0.910007503268406,
                    0.9022127215679209,
                    0.9066699783602201,
                    0.8947074400507757,
                    0.8747912579640378,
                    0.8642067703775759,
                    0.8589742787193887,
                    0.8722095365802668
                  ]
                },
                {
                  "marker": {
                    "color": "royalblue"
                  },
                  "name": "Top 18 PCs",
                  "type": "bar",
                  "visible": false,
                  "width": 0.6,
                  "x": [
                    "1",
                    "2",
                    "3",
                    "4",
                    "5",
                    "6",
                    "7",
                    "8",
                    "9",
                    "10",
                    "11",
                    "12"
                  ],
                  "y": [
                    0.8677458998038922,
                    0.9449872708261012,
                    0.9279819736806969,
                    0.9262105457505982,
                    0.9138917363177954,
                    0.9068847460048374,
                    0.9116235038713543,
                    0.8997161502435457,
                    0.8807024931519499,
                    0.8698820681689658,
                    0.865071269564582,
                    0.8776646725363513
                  ]
                },
                {
                  "marker": {
                    "color": "royalblue"
                  },
                  "name": "Top 19 PCs",
                  "type": "bar",
                  "visible": false,
                  "width": 0.6,
                  "x": [
                    "1",
                    "2",
                    "3",
                    "4",
                    "5",
                    "6",
                    "7",
                    "8",
                    "9",
                    "10",
                    "11",
                    "12"
                  ],
                  "y": [
                    0.8729934198974241,
                    0.9473694992743886,
                    0.9309507055088855,
                    0.9292897920161479,
                    0.9177111106998836,
                    0.9112266816670794,
                    0.9156720833907835,
                    0.9038436771738702,
                    0.8860390041139701,
                    0.8753518219133241,
                    0.870687835693274,
                    0.8830503059424286
                  ]
                },
                {
                  "marker": {
                    "color": "royalblue"
                  },
                  "name": "Top 20 PCs",
                  "type": "bar",
                  "visible": false,
                  "width": 0.6,
                  "x": [
                    "1",
                    "2",
                    "3",
                    "4",
                    "5",
                    "6",
                    "7",
                    "8",
                    "9",
                    "10",
                    "11",
                    "12"
                  ],
                  "y": [
                    0.8778422561537026,
                    0.9494706601559109,
                    0.9335390666601049,
                    0.9323252249274697,
                    0.9212737976912437,
                    0.9152582831242249,
                    0.9193878236768424,
                    0.9079178969044165,
                    0.8907855554547551,
                    0.8804287699282967,
                    0.876009324558929,
                    0.8878612519096274
                  ]
                },
                {
                  "marker": {
                    "color": "royalblue"
                  },
                  "name": "Top 21 PCs",
                  "type": "bar",
                  "visible": false,
                  "width": 0.6,
                  "x": [
                    "1",
                    "2",
                    "3",
                    "4",
                    "5",
                    "6",
                    "7",
                    "8",
                    "9",
                    "10",
                    "11",
                    "12"
                  ],
                  "y": [
                    0.8824135869074597,
                    0.9515564251871915,
                    0.9360475436825291,
                    0.9350427251153708,
                    0.9244898626371983,
                    0.9188590656958164,
                    0.9226918081828677,
                    0.9119205012161058,
                    0.8953429767276433,
                    0.8852698315679227,
                    0.8806528492554127,
                    0.892355128812792
                  ]
                },
                {
                  "marker": {
                    "color": "royalblue"
                  },
                  "name": "Top 22 PCs",
                  "type": "bar",
                  "visible": false,
                  "width": 0.6,
                  "x": [
                    "1",
                    "2",
                    "3",
                    "4",
                    "5",
                    "6",
                    "7",
                    "8",
                    "9",
                    "10",
                    "11",
                    "12"
                  ],
                  "y": [
                    0.886840347383201,
                    0.9533399153156309,
                    0.9383995622710121,
                    0.9376270762269774,
                    0.927637082341605,
                    0.922032356481544,
                    0.9259383991283526,
                    0.9154549475055063,
                    0.899641350669636,
                    0.8897285070519302,
                    0.8851696571816168,
                    0.8966488445025279
                  ]
                },
                {
                  "marker": {
                    "color": "royalblue"
                  },
                  "name": "Top 23 PCs",
                  "type": "bar",
                  "visible": false,
                  "width": 0.6,
                  "x": [
                    "1",
                    "2",
                    "3",
                    "4",
                    "5",
                    "6",
                    "7",
                    "8",
                    "9",
                    "10",
                    "11",
                    "12"
                  ],
                  "y": [
                    0.8910249826788037,
                    0.9550142641280943,
                    0.9406676615277674,
                    0.9400714861059498,
                    0.9305738092610956,
                    0.9251154876176529,
                    0.9289121845699858,
                    0.9189042836359699,
                    0.9037813556585909,
                    0.8939886499817415,
                    0.8894842534643024,
                    0.9008217447401493
                  ]
                },
                {
                  "marker": {
                    "color": "royalblue"
                  },
                  "name": "Top 24 PCs",
                  "type": "bar",
                  "visible": false,
                  "width": 0.6,
                  "x": [
                    "1",
                    "2",
                    "3",
                    "4",
                    "5",
                    "6",
                    "7",
                    "8",
                    "9",
                    "10",
                    "11",
                    "12"
                  ],
                  "y": [
                    0.8949300636163023,
                    0.9565181757165897,
                    0.9427981516487842,
                    0.9423039400671893,
                    0.9332320869546809,
                    0.9278455549355626,
                    0.9317833356449913,
                    0.9221133015346842,
                    0.9077018296613051,
                    0.8981095142338,
                    0.8936029437459581,
                    0.9045171474567256
                  ]
                },
                {
                  "marker": {
                    "color": "royalblue"
                  },
                  "name": "Top 25 PCs",
                  "type": "bar",
                  "visible": false,
                  "width": 0.6,
                  "x": [
                    "1",
                    "2",
                    "3",
                    "4",
                    "5",
                    "6",
                    "7",
                    "8",
                    "9",
                    "10",
                    "11",
                    "12"
                  ],
                  "y": [
                    0.8986390216226088,
                    0.9579028921370358,
                    0.9446890947339971,
                    0.9444102890423378,
                    0.9357822075034364,
                    0.9304753389276129,
                    0.9342815986333219,
                    0.9250191234387739,
                    0.9111628550523355,
                    0.9019153133095366,
                    0.8973937063337233,
                    0.9080317156198379
                  ]
                },
                {
                  "marker": {
                    "color": "royalblue"
                  },
                  "name": "Top 26 PCs",
                  "type": "bar",
                  "visible": false,
                  "width": 0.6,
                  "x": [
                    "1",
                    "2",
                    "3",
                    "4",
                    "5",
                    "6",
                    "7",
                    "8",
                    "9",
                    "10",
                    "11",
                    "12"
                  ],
                  "y": [
                    0.9022239637863454,
                    0.9592498978382645,
                    0.946501322034055,
                    0.9464152125159346,
                    0.9381561744821887,
                    0.9329912505284436,
                    0.936665182439222,
                    0.9277959834609825,
                    0.9144689078499392,
                    0.9055485544214172,
                    0.9010134392355849,
                    0.9112982458329955
                  ]
                },
                {
                  "marker": {
                    "color": "royalblue"
                  },
                  "name": "Top 27 PCs",
                  "type": "bar",
                  "visible": false,
                  "width": 0.6,
                  "x": [
                    "1",
                    "2",
                    "3",
                    "4",
                    "5",
                    "6",
                    "7",
                    "8",
                    "9",
                    "10",
                    "11",
                    "12"
                  ],
                  "y": [
                    0.9054816671923402,
                    0.9605650735656754,
                    0.9482684396532032,
                    0.948285763848321,
                    0.9403545229252162,
                    0.9354403859349034,
                    0.9388989445311486,
                    0.9303840622970941,
                    0.9176805190726413,
                    0.9089264861369638,
                    0.9045978240883648,
                    0.9143818009573612
                  ]
                },
                {
                  "marker": {
                    "color": "royalblue"
                  },
                  "name": "Top 28 PCs",
                  "type": "bar",
                  "visible": false,
                  "width": 0.6,
                  "x": [
                    "1",
                    "2",
                    "3",
                    "4",
                    "5",
                    "6",
                    "7",
                    "8",
                    "9",
                    "10",
                    "11",
                    "12"
                  ],
                  "y": [
                    0.908598939702608,
                    0.9618175018913663,
                    0.9499155251301402,
                    0.950113958620311,
                    0.9423414906662031,
                    0.9377620551651452,
                    0.9409665360302188,
                    0.9329943353399542,
                    0.9207566739977203,
                    0.9120806485753249,
                    0.9080481722471402,
                    0.9172281893114622
                  ]
                },
                {
                  "marker": {
                    "color": "royalblue"
                  },
                  "name": "Top 29 PCs",
                  "type": "bar",
                  "visible": false,
                  "width": 0.6,
                  "x": [
                    "1",
                    "2",
                    "3",
                    "4",
                    "5",
                    "6",
                    "7",
                    "8",
                    "9",
                    "10",
                    "11",
                    "12"
                  ],
                  "y": [
                    0.9115214214589837,
                    0.9630294694861239,
                    0.9515006759318384,
                    0.9517328775798263,
                    0.9443079628850612,
                    0.9399989009347132,
                    0.9430140622598249,
                    0.9353322806360523,
                    0.9237414573843467,
                    0.9150100983009485,
                    0.9113148484263329,
                    0.9199168795000382
                  ]
                },
                {
                  "marker": {
                    "color": "royalblue"
                  },
                  "name": "Top 30 PCs",
                  "type": "bar",
                  "visible": false,
                  "width": 0.6,
                  "x": [
                    "1",
                    "2",
                    "3",
                    "4",
                    "5",
                    "6",
                    "7",
                    "8",
                    "9",
                    "10",
                    "11",
                    "12"
                  ],
                  "y": [
                    0.9143298416861046,
                    0.9642090212076945,
                    0.9530253363102182,
                    0.9532695338185878,
                    0.9461925279858847,
                    0.9421203182735509,
                    0.9448968851179105,
                    0.9375813392439122,
                    0.9264596917030671,
                    0.9178295027511553,
                    0.9142415699245121,
                    0.9225195828726779
                  ]
                }
              ],
              "layout": {
                "height": 500,
                "sliders": [
                  {
                    "active": 1,
                    "currentvalue": {
                      "prefix": "Top-k PCs: "
                    },
                    "pad": {
                      "t": 50
                    },
                    "steps": [
                      {
                        "args": [
                          {
                            "visible": [
                              true,
                              false,
                              false,
                              false,
                              false,
                              false,
                              false,
                              false,
                              false,
                              false,
                              false,
                              false,
                              false,
                              false,
                              false,
                              false,
                              false,
                              false,
                              false,
                              false,
                              false,
                              false,
                              false,
                              false,
                              false,
                              false,
                              false,
                              false,
                              false,
                              false
                            ]
                          },
                          {
                            "title": "Variance Explained by Top 1 PCs vs. Number of Targets",
                            "yaxis": {
                              "title": "Variance Explained (Top 1 PCs)"
                            }
                          }
                        ],
                        "label": "1",
                        "method": "update"
                      },
                      {
                        "args": [
                          {
                            "visible": [
                              false,
                              true,
                              false,
                              false,
                              false,
                              false,
                              false,
                              false,
                              false,
                              false,
                              false,
                              false,
                              false,
                              false,
                              false,
                              false,
                              false,
                              false,
                              false,
                              false,
                              false,
                              false,
                              false,
                              false,
                              false,
                              false,
                              false,
                              false,
                              false,
                              false
                            ]
                          },
                          {
                            "title": "Variance Explained by Top 2 PCs vs. Number of Targets",
                            "yaxis": {
                              "title": "Variance Explained (Top 2 PCs)"
                            }
                          }
                        ],
                        "label": "2",
                        "method": "update"
                      },
                      {
                        "args": [
                          {
                            "visible": [
                              false,
                              false,
                              true,
                              false,
                              false,
                              false,
                              false,
                              false,
                              false,
                              false,
                              false,
                              false,
                              false,
                              false,
                              false,
                              false,
                              false,
                              false,
                              false,
                              false,
                              false,
                              false,
                              false,
                              false,
                              false,
                              false,
                              false,
                              false,
                              false,
                              false
                            ]
                          },
                          {
                            "title": "Variance Explained by Top 3 PCs vs. Number of Targets",
                            "yaxis": {
                              "title": "Variance Explained (Top 3 PCs)"
                            }
                          }
                        ],
                        "label": "3",
                        "method": "update"
                      },
                      {
                        "args": [
                          {
                            "visible": [
                              false,
                              false,
                              false,
                              true,
                              false,
                              false,
                              false,
                              false,
                              false,
                              false,
                              false,
                              false,
                              false,
                              false,
                              false,
                              false,
                              false,
                              false,
                              false,
                              false,
                              false,
                              false,
                              false,
                              false,
                              false,
                              false,
                              false,
                              false,
                              false,
                              false
                            ]
                          },
                          {
                            "title": "Variance Explained by Top 4 PCs vs. Number of Targets",
                            "yaxis": {
                              "title": "Variance Explained (Top 4 PCs)"
                            }
                          }
                        ],
                        "label": "4",
                        "method": "update"
                      },
                      {
                        "args": [
                          {
                            "visible": [
                              false,
                              false,
                              false,
                              false,
                              true,
                              false,
                              false,
                              false,
                              false,
                              false,
                              false,
                              false,
                              false,
                              false,
                              false,
                              false,
                              false,
                              false,
                              false,
                              false,
                              false,
                              false,
                              false,
                              false,
                              false,
                              false,
                              false,
                              false,
                              false,
                              false
                            ]
                          },
                          {
                            "title": "Variance Explained by Top 5 PCs vs. Number of Targets",
                            "yaxis": {
                              "title": "Variance Explained (Top 5 PCs)"
                            }
                          }
                        ],
                        "label": "5",
                        "method": "update"
                      },
                      {
                        "args": [
                          {
                            "visible": [
                              false,
                              false,
                              false,
                              false,
                              false,
                              true,
                              false,
                              false,
                              false,
                              false,
                              false,
                              false,
                              false,
                              false,
                              false,
                              false,
                              false,
                              false,
                              false,
                              false,
                              false,
                              false,
                              false,
                              false,
                              false,
                              false,
                              false,
                              false,
                              false,
                              false
                            ]
                          },
                          {
                            "title": "Variance Explained by Top 6 PCs vs. Number of Targets",
                            "yaxis": {
                              "title": "Variance Explained (Top 6 PCs)"
                            }
                          }
                        ],
                        "label": "6",
                        "method": "update"
                      },
                      {
                        "args": [
                          {
                            "visible": [
                              false,
                              false,
                              false,
                              false,
                              false,
                              false,
                              true,
                              false,
                              false,
                              false,
                              false,
                              false,
                              false,
                              false,
                              false,
                              false,
                              false,
                              false,
                              false,
                              false,
                              false,
                              false,
                              false,
                              false,
                              false,
                              false,
                              false,
                              false,
                              false,
                              false
                            ]
                          },
                          {
                            "title": "Variance Explained by Top 7 PCs vs. Number of Targets",
                            "yaxis": {
                              "title": "Variance Explained (Top 7 PCs)"
                            }
                          }
                        ],
                        "label": "7",
                        "method": "update"
                      },
                      {
                        "args": [
                          {
                            "visible": [
                              false,
                              false,
                              false,
                              false,
                              false,
                              false,
                              false,
                              true,
                              false,
                              false,
                              false,
                              false,
                              false,
                              false,
                              false,
                              false,
                              false,
                              false,
                              false,
                              false,
                              false,
                              false,
                              false,
                              false,
                              false,
                              false,
                              false,
                              false,
                              false,
                              false
                            ]
                          },
                          {
                            "title": "Variance Explained by Top 8 PCs vs. Number of Targets",
                            "yaxis": {
                              "title": "Variance Explained (Top 8 PCs)"
                            }
                          }
                        ],
                        "label": "8",
                        "method": "update"
                      },
                      {
                        "args": [
                          {
                            "visible": [
                              false,
                              false,
                              false,
                              false,
                              false,
                              false,
                              false,
                              false,
                              true,
                              false,
                              false,
                              false,
                              false,
                              false,
                              false,
                              false,
                              false,
                              false,
                              false,
                              false,
                              false,
                              false,
                              false,
                              false,
                              false,
                              false,
                              false,
                              false,
                              false,
                              false
                            ]
                          },
                          {
                            "title": "Variance Explained by Top 9 PCs vs. Number of Targets",
                            "yaxis": {
                              "title": "Variance Explained (Top 9 PCs)"
                            }
                          }
                        ],
                        "label": "9",
                        "method": "update"
                      },
                      {
                        "args": [
                          {
                            "visible": [
                              false,
                              false,
                              false,
                              false,
                              false,
                              false,
                              false,
                              false,
                              false,
                              true,
                              false,
                              false,
                              false,
                              false,
                              false,
                              false,
                              false,
                              false,
                              false,
                              false,
                              false,
                              false,
                              false,
                              false,
                              false,
                              false,
                              false,
                              false,
                              false,
                              false
                            ]
                          },
                          {
                            "title": "Variance Explained by Top 10 PCs vs. Number of Targets",
                            "yaxis": {
                              "title": "Variance Explained (Top 10 PCs)"
                            }
                          }
                        ],
                        "label": "10",
                        "method": "update"
                      },
                      {
                        "args": [
                          {
                            "visible": [
                              false,
                              false,
                              false,
                              false,
                              false,
                              false,
                              false,
                              false,
                              false,
                              false,
                              true,
                              false,
                              false,
                              false,
                              false,
                              false,
                              false,
                              false,
                              false,
                              false,
                              false,
                              false,
                              false,
                              false,
                              false,
                              false,
                              false,
                              false,
                              false,
                              false
                            ]
                          },
                          {
                            "title": "Variance Explained by Top 11 PCs vs. Number of Targets",
                            "yaxis": {
                              "title": "Variance Explained (Top 11 PCs)"
                            }
                          }
                        ],
                        "label": "11",
                        "method": "update"
                      },
                      {
                        "args": [
                          {
                            "visible": [
                              false,
                              false,
                              false,
                              false,
                              false,
                              false,
                              false,
                              false,
                              false,
                              false,
                              false,
                              true,
                              false,
                              false,
                              false,
                              false,
                              false,
                              false,
                              false,
                              false,
                              false,
                              false,
                              false,
                              false,
                              false,
                              false,
                              false,
                              false,
                              false,
                              false
                            ]
                          },
                          {
                            "title": "Variance Explained by Top 12 PCs vs. Number of Targets",
                            "yaxis": {
                              "title": "Variance Explained (Top 12 PCs)"
                            }
                          }
                        ],
                        "label": "12",
                        "method": "update"
                      },
                      {
                        "args": [
                          {
                            "visible": [
                              false,
                              false,
                              false,
                              false,
                              false,
                              false,
                              false,
                              false,
                              false,
                              false,
                              false,
                              false,
                              true,
                              false,
                              false,
                              false,
                              false,
                              false,
                              false,
                              false,
                              false,
                              false,
                              false,
                              false,
                              false,
                              false,
                              false,
                              false,
                              false,
                              false
                            ]
                          },
                          {
                            "title": "Variance Explained by Top 13 PCs vs. Number of Targets",
                            "yaxis": {
                              "title": "Variance Explained (Top 13 PCs)"
                            }
                          }
                        ],
                        "label": "13",
                        "method": "update"
                      },
                      {
                        "args": [
                          {
                            "visible": [
                              false,
                              false,
                              false,
                              false,
                              false,
                              false,
                              false,
                              false,
                              false,
                              false,
                              false,
                              false,
                              false,
                              true,
                              false,
                              false,
                              false,
                              false,
                              false,
                              false,
                              false,
                              false,
                              false,
                              false,
                              false,
                              false,
                              false,
                              false,
                              false,
                              false
                            ]
                          },
                          {
                            "title": "Variance Explained by Top 14 PCs vs. Number of Targets",
                            "yaxis": {
                              "title": "Variance Explained (Top 14 PCs)"
                            }
                          }
                        ],
                        "label": "14",
                        "method": "update"
                      },
                      {
                        "args": [
                          {
                            "visible": [
                              false,
                              false,
                              false,
                              false,
                              false,
                              false,
                              false,
                              false,
                              false,
                              false,
                              false,
                              false,
                              false,
                              false,
                              true,
                              false,
                              false,
                              false,
                              false,
                              false,
                              false,
                              false,
                              false,
                              false,
                              false,
                              false,
                              false,
                              false,
                              false,
                              false
                            ]
                          },
                          {
                            "title": "Variance Explained by Top 15 PCs vs. Number of Targets",
                            "yaxis": {
                              "title": "Variance Explained (Top 15 PCs)"
                            }
                          }
                        ],
                        "label": "15",
                        "method": "update"
                      },
                      {
                        "args": [
                          {
                            "visible": [
                              false,
                              false,
                              false,
                              false,
                              false,
                              false,
                              false,
                              false,
                              false,
                              false,
                              false,
                              false,
                              false,
                              false,
                              false,
                              true,
                              false,
                              false,
                              false,
                              false,
                              false,
                              false,
                              false,
                              false,
                              false,
                              false,
                              false,
                              false,
                              false,
                              false
                            ]
                          },
                          {
                            "title": "Variance Explained by Top 16 PCs vs. Number of Targets",
                            "yaxis": {
                              "title": "Variance Explained (Top 16 PCs)"
                            }
                          }
                        ],
                        "label": "16",
                        "method": "update"
                      },
                      {
                        "args": [
                          {
                            "visible": [
                              false,
                              false,
                              false,
                              false,
                              false,
                              false,
                              false,
                              false,
                              false,
                              false,
                              false,
                              false,
                              false,
                              false,
                              false,
                              false,
                              true,
                              false,
                              false,
                              false,
                              false,
                              false,
                              false,
                              false,
                              false,
                              false,
                              false,
                              false,
                              false,
                              false
                            ]
                          },
                          {
                            "title": "Variance Explained by Top 17 PCs vs. Number of Targets",
                            "yaxis": {
                              "title": "Variance Explained (Top 17 PCs)"
                            }
                          }
                        ],
                        "label": "17",
                        "method": "update"
                      },
                      {
                        "args": [
                          {
                            "visible": [
                              false,
                              false,
                              false,
                              false,
                              false,
                              false,
                              false,
                              false,
                              false,
                              false,
                              false,
                              false,
                              false,
                              false,
                              false,
                              false,
                              false,
                              true,
                              false,
                              false,
                              false,
                              false,
                              false,
                              false,
                              false,
                              false,
                              false,
                              false,
                              false,
                              false
                            ]
                          },
                          {
                            "title": "Variance Explained by Top 18 PCs vs. Number of Targets",
                            "yaxis": {
                              "title": "Variance Explained (Top 18 PCs)"
                            }
                          }
                        ],
                        "label": "18",
                        "method": "update"
                      },
                      {
                        "args": [
                          {
                            "visible": [
                              false,
                              false,
                              false,
                              false,
                              false,
                              false,
                              false,
                              false,
                              false,
                              false,
                              false,
                              false,
                              false,
                              false,
                              false,
                              false,
                              false,
                              false,
                              true,
                              false,
                              false,
                              false,
                              false,
                              false,
                              false,
                              false,
                              false,
                              false,
                              false,
                              false
                            ]
                          },
                          {
                            "title": "Variance Explained by Top 19 PCs vs. Number of Targets",
                            "yaxis": {
                              "title": "Variance Explained (Top 19 PCs)"
                            }
                          }
                        ],
                        "label": "19",
                        "method": "update"
                      },
                      {
                        "args": [
                          {
                            "visible": [
                              false,
                              false,
                              false,
                              false,
                              false,
                              false,
                              false,
                              false,
                              false,
                              false,
                              false,
                              false,
                              false,
                              false,
                              false,
                              false,
                              false,
                              false,
                              false,
                              true,
                              false,
                              false,
                              false,
                              false,
                              false,
                              false,
                              false,
                              false,
                              false,
                              false
                            ]
                          },
                          {
                            "title": "Variance Explained by Top 20 PCs vs. Number of Targets",
                            "yaxis": {
                              "title": "Variance Explained (Top 20 PCs)"
                            }
                          }
                        ],
                        "label": "20",
                        "method": "update"
                      },
                      {
                        "args": [
                          {
                            "visible": [
                              false,
                              false,
                              false,
                              false,
                              false,
                              false,
                              false,
                              false,
                              false,
                              false,
                              false,
                              false,
                              false,
                              false,
                              false,
                              false,
                              false,
                              false,
                              false,
                              false,
                              true,
                              false,
                              false,
                              false,
                              false,
                              false,
                              false,
                              false,
                              false,
                              false
                            ]
                          },
                          {
                            "title": "Variance Explained by Top 21 PCs vs. Number of Targets",
                            "yaxis": {
                              "title": "Variance Explained (Top 21 PCs)"
                            }
                          }
                        ],
                        "label": "21",
                        "method": "update"
                      },
                      {
                        "args": [
                          {
                            "visible": [
                              false,
                              false,
                              false,
                              false,
                              false,
                              false,
                              false,
                              false,
                              false,
                              false,
                              false,
                              false,
                              false,
                              false,
                              false,
                              false,
                              false,
                              false,
                              false,
                              false,
                              false,
                              true,
                              false,
                              false,
                              false,
                              false,
                              false,
                              false,
                              false,
                              false
                            ]
                          },
                          {
                            "title": "Variance Explained by Top 22 PCs vs. Number of Targets",
                            "yaxis": {
                              "title": "Variance Explained (Top 22 PCs)"
                            }
                          }
                        ],
                        "label": "22",
                        "method": "update"
                      },
                      {
                        "args": [
                          {
                            "visible": [
                              false,
                              false,
                              false,
                              false,
                              false,
                              false,
                              false,
                              false,
                              false,
                              false,
                              false,
                              false,
                              false,
                              false,
                              false,
                              false,
                              false,
                              false,
                              false,
                              false,
                              false,
                              false,
                              true,
                              false,
                              false,
                              false,
                              false,
                              false,
                              false,
                              false
                            ]
                          },
                          {
                            "title": "Variance Explained by Top 23 PCs vs. Number of Targets",
                            "yaxis": {
                              "title": "Variance Explained (Top 23 PCs)"
                            }
                          }
                        ],
                        "label": "23",
                        "method": "update"
                      },
                      {
                        "args": [
                          {
                            "visible": [
                              false,
                              false,
                              false,
                              false,
                              false,
                              false,
                              false,
                              false,
                              false,
                              false,
                              false,
                              false,
                              false,
                              false,
                              false,
                              false,
                              false,
                              false,
                              false,
                              false,
                              false,
                              false,
                              false,
                              true,
                              false,
                              false,
                              false,
                              false,
                              false,
                              false
                            ]
                          },
                          {
                            "title": "Variance Explained by Top 24 PCs vs. Number of Targets",
                            "yaxis": {
                              "title": "Variance Explained (Top 24 PCs)"
                            }
                          }
                        ],
                        "label": "24",
                        "method": "update"
                      },
                      {
                        "args": [
                          {
                            "visible": [
                              false,
                              false,
                              false,
                              false,
                              false,
                              false,
                              false,
                              false,
                              false,
                              false,
                              false,
                              false,
                              false,
                              false,
                              false,
                              false,
                              false,
                              false,
                              false,
                              false,
                              false,
                              false,
                              false,
                              false,
                              true,
                              false,
                              false,
                              false,
                              false,
                              false
                            ]
                          },
                          {
                            "title": "Variance Explained by Top 25 PCs vs. Number of Targets",
                            "yaxis": {
                              "title": "Variance Explained (Top 25 PCs)"
                            }
                          }
                        ],
                        "label": "25",
                        "method": "update"
                      },
                      {
                        "args": [
                          {
                            "visible": [
                              false,
                              false,
                              false,
                              false,
                              false,
                              false,
                              false,
                              false,
                              false,
                              false,
                              false,
                              false,
                              false,
                              false,
                              false,
                              false,
                              false,
                              false,
                              false,
                              false,
                              false,
                              false,
                              false,
                              false,
                              false,
                              true,
                              false,
                              false,
                              false,
                              false
                            ]
                          },
                          {
                            "title": "Variance Explained by Top 26 PCs vs. Number of Targets",
                            "yaxis": {
                              "title": "Variance Explained (Top 26 PCs)"
                            }
                          }
                        ],
                        "label": "26",
                        "method": "update"
                      },
                      {
                        "args": [
                          {
                            "visible": [
                              false,
                              false,
                              false,
                              false,
                              false,
                              false,
                              false,
                              false,
                              false,
                              false,
                              false,
                              false,
                              false,
                              false,
                              false,
                              false,
                              false,
                              false,
                              false,
                              false,
                              false,
                              false,
                              false,
                              false,
                              false,
                              false,
                              true,
                              false,
                              false,
                              false
                            ]
                          },
                          {
                            "title": "Variance Explained by Top 27 PCs vs. Number of Targets",
                            "yaxis": {
                              "title": "Variance Explained (Top 27 PCs)"
                            }
                          }
                        ],
                        "label": "27",
                        "method": "update"
                      },
                      {
                        "args": [
                          {
                            "visible": [
                              false,
                              false,
                              false,
                              false,
                              false,
                              false,
                              false,
                              false,
                              false,
                              false,
                              false,
                              false,
                              false,
                              false,
                              false,
                              false,
                              false,
                              false,
                              false,
                              false,
                              false,
                              false,
                              false,
                              false,
                              false,
                              false,
                              false,
                              true,
                              false,
                              false
                            ]
                          },
                          {
                            "title": "Variance Explained by Top 28 PCs vs. Number of Targets",
                            "yaxis": {
                              "title": "Variance Explained (Top 28 PCs)"
                            }
                          }
                        ],
                        "label": "28",
                        "method": "update"
                      },
                      {
                        "args": [
                          {
                            "visible": [
                              false,
                              false,
                              false,
                              false,
                              false,
                              false,
                              false,
                              false,
                              false,
                              false,
                              false,
                              false,
                              false,
                              false,
                              false,
                              false,
                              false,
                              false,
                              false,
                              false,
                              false,
                              false,
                              false,
                              false,
                              false,
                              false,
                              false,
                              false,
                              true,
                              false
                            ]
                          },
                          {
                            "title": "Variance Explained by Top 29 PCs vs. Number of Targets",
                            "yaxis": {
                              "title": "Variance Explained (Top 29 PCs)"
                            }
                          }
                        ],
                        "label": "29",
                        "method": "update"
                      },
                      {
                        "args": [
                          {
                            "visible": [
                              false,
                              false,
                              false,
                              false,
                              false,
                              false,
                              false,
                              false,
                              false,
                              false,
                              false,
                              false,
                              false,
                              false,
                              false,
                              false,
                              false,
                              false,
                              false,
                              false,
                              false,
                              false,
                              false,
                              false,
                              false,
                              false,
                              false,
                              false,
                              false,
                              true
                            ]
                          },
                          {
                            "title": "Variance Explained by Top 30 PCs vs. Number of Targets",
                            "yaxis": {
                              "title": "Variance Explained (Top 30 PCs)"
                            }
                          }
                        ],
                        "label": "30",
                        "method": "update"
                      }
                    ]
                  }
                ],
                "template": {
                  "data": {
                    "bar": [
                      {
                        "error_x": {
                          "color": "#2a3f5f"
                        },
                        "error_y": {
                          "color": "#2a3f5f"
                        },
                        "marker": {
                          "line": {
                            "color": "white",
                            "width": 0.5
                          },
                          "pattern": {
                            "fillmode": "overlay",
                            "size": 10,
                            "solidity": 0.2
                          }
                        },
                        "type": "bar"
                      }
                    ],
                    "barpolar": [
                      {
                        "marker": {
                          "line": {
                            "color": "white",
                            "width": 0.5
                          },
                          "pattern": {
                            "fillmode": "overlay",
                            "size": 10,
                            "solidity": 0.2
                          }
                        },
                        "type": "barpolar"
                      }
                    ],
                    "carpet": [
                      {
                        "aaxis": {
                          "endlinecolor": "#2a3f5f",
                          "gridcolor": "#C8D4E3",
                          "linecolor": "#C8D4E3",
                          "minorgridcolor": "#C8D4E3",
                          "startlinecolor": "#2a3f5f"
                        },
                        "baxis": {
                          "endlinecolor": "#2a3f5f",
                          "gridcolor": "#C8D4E3",
                          "linecolor": "#C8D4E3",
                          "minorgridcolor": "#C8D4E3",
                          "startlinecolor": "#2a3f5f"
                        },
                        "type": "carpet"
                      }
                    ],
                    "choropleth": [
                      {
                        "colorbar": {
                          "outlinewidth": 0,
                          "ticks": ""
                        },
                        "type": "choropleth"
                      }
                    ],
                    "contour": [
                      {
                        "colorbar": {
                          "outlinewidth": 0,
                          "ticks": ""
                        },
                        "colorscale": [
                          [
                            0,
                            "#0d0887"
                          ],
                          [
                            0.1111111111111111,
                            "#46039f"
                          ],
                          [
                            0.2222222222222222,
                            "#7201a8"
                          ],
                          [
                            0.3333333333333333,
                            "#9c179e"
                          ],
                          [
                            0.4444444444444444,
                            "#bd3786"
                          ],
                          [
                            0.5555555555555556,
                            "#d8576b"
                          ],
                          [
                            0.6666666666666666,
                            "#ed7953"
                          ],
                          [
                            0.7777777777777778,
                            "#fb9f3a"
                          ],
                          [
                            0.8888888888888888,
                            "#fdca26"
                          ],
                          [
                            1,
                            "#f0f921"
                          ]
                        ],
                        "type": "contour"
                      }
                    ],
                    "contourcarpet": [
                      {
                        "colorbar": {
                          "outlinewidth": 0,
                          "ticks": ""
                        },
                        "type": "contourcarpet"
                      }
                    ],
                    "heatmap": [
                      {
                        "colorbar": {
                          "outlinewidth": 0,
                          "ticks": ""
                        },
                        "colorscale": [
                          [
                            0,
                            "#0d0887"
                          ],
                          [
                            0.1111111111111111,
                            "#46039f"
                          ],
                          [
                            0.2222222222222222,
                            "#7201a8"
                          ],
                          [
                            0.3333333333333333,
                            "#9c179e"
                          ],
                          [
                            0.4444444444444444,
                            "#bd3786"
                          ],
                          [
                            0.5555555555555556,
                            "#d8576b"
                          ],
                          [
                            0.6666666666666666,
                            "#ed7953"
                          ],
                          [
                            0.7777777777777778,
                            "#fb9f3a"
                          ],
                          [
                            0.8888888888888888,
                            "#fdca26"
                          ],
                          [
                            1,
                            "#f0f921"
                          ]
                        ],
                        "type": "heatmap"
                      }
                    ],
                    "heatmapgl": [
                      {
                        "colorbar": {
                          "outlinewidth": 0,
                          "ticks": ""
                        },
                        "colorscale": [
                          [
                            0,
                            "#0d0887"
                          ],
                          [
                            0.1111111111111111,
                            "#46039f"
                          ],
                          [
                            0.2222222222222222,
                            "#7201a8"
                          ],
                          [
                            0.3333333333333333,
                            "#9c179e"
                          ],
                          [
                            0.4444444444444444,
                            "#bd3786"
                          ],
                          [
                            0.5555555555555556,
                            "#d8576b"
                          ],
                          [
                            0.6666666666666666,
                            "#ed7953"
                          ],
                          [
                            0.7777777777777778,
                            "#fb9f3a"
                          ],
                          [
                            0.8888888888888888,
                            "#fdca26"
                          ],
                          [
                            1,
                            "#f0f921"
                          ]
                        ],
                        "type": "heatmapgl"
                      }
                    ],
                    "histogram": [
                      {
                        "marker": {
                          "pattern": {
                            "fillmode": "overlay",
                            "size": 10,
                            "solidity": 0.2
                          }
                        },
                        "type": "histogram"
                      }
                    ],
                    "histogram2d": [
                      {
                        "colorbar": {
                          "outlinewidth": 0,
                          "ticks": ""
                        },
                        "colorscale": [
                          [
                            0,
                            "#0d0887"
                          ],
                          [
                            0.1111111111111111,
                            "#46039f"
                          ],
                          [
                            0.2222222222222222,
                            "#7201a8"
                          ],
                          [
                            0.3333333333333333,
                            "#9c179e"
                          ],
                          [
                            0.4444444444444444,
                            "#bd3786"
                          ],
                          [
                            0.5555555555555556,
                            "#d8576b"
                          ],
                          [
                            0.6666666666666666,
                            "#ed7953"
                          ],
                          [
                            0.7777777777777778,
                            "#fb9f3a"
                          ],
                          [
                            0.8888888888888888,
                            "#fdca26"
                          ],
                          [
                            1,
                            "#f0f921"
                          ]
                        ],
                        "type": "histogram2d"
                      }
                    ],
                    "histogram2dcontour": [
                      {
                        "colorbar": {
                          "outlinewidth": 0,
                          "ticks": ""
                        },
                        "colorscale": [
                          [
                            0,
                            "#0d0887"
                          ],
                          [
                            0.1111111111111111,
                            "#46039f"
                          ],
                          [
                            0.2222222222222222,
                            "#7201a8"
                          ],
                          [
                            0.3333333333333333,
                            "#9c179e"
                          ],
                          [
                            0.4444444444444444,
                            "#bd3786"
                          ],
                          [
                            0.5555555555555556,
                            "#d8576b"
                          ],
                          [
                            0.6666666666666666,
                            "#ed7953"
                          ],
                          [
                            0.7777777777777778,
                            "#fb9f3a"
                          ],
                          [
                            0.8888888888888888,
                            "#fdca26"
                          ],
                          [
                            1,
                            "#f0f921"
                          ]
                        ],
                        "type": "histogram2dcontour"
                      }
                    ],
                    "mesh3d": [
                      {
                        "colorbar": {
                          "outlinewidth": 0,
                          "ticks": ""
                        },
                        "type": "mesh3d"
                      }
                    ],
                    "parcoords": [
                      {
                        "line": {
                          "colorbar": {
                            "outlinewidth": 0,
                            "ticks": ""
                          }
                        },
                        "type": "parcoords"
                      }
                    ],
                    "pie": [
                      {
                        "automargin": true,
                        "type": "pie"
                      }
                    ],
                    "scatter": [
                      {
                        "fillpattern": {
                          "fillmode": "overlay",
                          "size": 10,
                          "solidity": 0.2
                        },
                        "type": "scatter"
                      }
                    ],
                    "scatter3d": [
                      {
                        "line": {
                          "colorbar": {
                            "outlinewidth": 0,
                            "ticks": ""
                          }
                        },
                        "marker": {
                          "colorbar": {
                            "outlinewidth": 0,
                            "ticks": ""
                          }
                        },
                        "type": "scatter3d"
                      }
                    ],
                    "scattercarpet": [
                      {
                        "marker": {
                          "colorbar": {
                            "outlinewidth": 0,
                            "ticks": ""
                          }
                        },
                        "type": "scattercarpet"
                      }
                    ],
                    "scattergeo": [
                      {
                        "marker": {
                          "colorbar": {
                            "outlinewidth": 0,
                            "ticks": ""
                          }
                        },
                        "type": "scattergeo"
                      }
                    ],
                    "scattergl": [
                      {
                        "marker": {
                          "colorbar": {
                            "outlinewidth": 0,
                            "ticks": ""
                          }
                        },
                        "type": "scattergl"
                      }
                    ],
                    "scattermapbox": [
                      {
                        "marker": {
                          "colorbar": {
                            "outlinewidth": 0,
                            "ticks": ""
                          }
                        },
                        "type": "scattermapbox"
                      }
                    ],
                    "scatterpolar": [
                      {
                        "marker": {
                          "colorbar": {
                            "outlinewidth": 0,
                            "ticks": ""
                          }
                        },
                        "type": "scatterpolar"
                      }
                    ],
                    "scatterpolargl": [
                      {
                        "marker": {
                          "colorbar": {
                            "outlinewidth": 0,
                            "ticks": ""
                          }
                        },
                        "type": "scatterpolargl"
                      }
                    ],
                    "scatterternary": [
                      {
                        "marker": {
                          "colorbar": {
                            "outlinewidth": 0,
                            "ticks": ""
                          }
                        },
                        "type": "scatterternary"
                      }
                    ],
                    "surface": [
                      {
                        "colorbar": {
                          "outlinewidth": 0,
                          "ticks": ""
                        },
                        "colorscale": [
                          [
                            0,
                            "#0d0887"
                          ],
                          [
                            0.1111111111111111,
                            "#46039f"
                          ],
                          [
                            0.2222222222222222,
                            "#7201a8"
                          ],
                          [
                            0.3333333333333333,
                            "#9c179e"
                          ],
                          [
                            0.4444444444444444,
                            "#bd3786"
                          ],
                          [
                            0.5555555555555556,
                            "#d8576b"
                          ],
                          [
                            0.6666666666666666,
                            "#ed7953"
                          ],
                          [
                            0.7777777777777778,
                            "#fb9f3a"
                          ],
                          [
                            0.8888888888888888,
                            "#fdca26"
                          ],
                          [
                            1,
                            "#f0f921"
                          ]
                        ],
                        "type": "surface"
                      }
                    ],
                    "table": [
                      {
                        "cells": {
                          "fill": {
                            "color": "#EBF0F8"
                          },
                          "line": {
                            "color": "white"
                          }
                        },
                        "header": {
                          "fill": {
                            "color": "#C8D4E3"
                          },
                          "line": {
                            "color": "white"
                          }
                        },
                        "type": "table"
                      }
                    ]
                  },
                  "layout": {
                    "annotationdefaults": {
                      "arrowcolor": "#2a3f5f",
                      "arrowhead": 0,
                      "arrowwidth": 1
                    },
                    "autotypenumbers": "strict",
                    "coloraxis": {
                      "colorbar": {
                        "outlinewidth": 0,
                        "ticks": ""
                      }
                    },
                    "colorscale": {
                      "diverging": [
                        [
                          0,
                          "#8e0152"
                        ],
                        [
                          0.1,
                          "#c51b7d"
                        ],
                        [
                          0.2,
                          "#de77ae"
                        ],
                        [
                          0.3,
                          "#f1b6da"
                        ],
                        [
                          0.4,
                          "#fde0ef"
                        ],
                        [
                          0.5,
                          "#f7f7f7"
                        ],
                        [
                          0.6,
                          "#e6f5d0"
                        ],
                        [
                          0.7,
                          "#b8e186"
                        ],
                        [
                          0.8,
                          "#7fbc41"
                        ],
                        [
                          0.9,
                          "#4d9221"
                        ],
                        [
                          1,
                          "#276419"
                        ]
                      ],
                      "sequential": [
                        [
                          0,
                          "#0d0887"
                        ],
                        [
                          0.1111111111111111,
                          "#46039f"
                        ],
                        [
                          0.2222222222222222,
                          "#7201a8"
                        ],
                        [
                          0.3333333333333333,
                          "#9c179e"
                        ],
                        [
                          0.4444444444444444,
                          "#bd3786"
                        ],
                        [
                          0.5555555555555556,
                          "#d8576b"
                        ],
                        [
                          0.6666666666666666,
                          "#ed7953"
                        ],
                        [
                          0.7777777777777778,
                          "#fb9f3a"
                        ],
                        [
                          0.8888888888888888,
                          "#fdca26"
                        ],
                        [
                          1,
                          "#f0f921"
                        ]
                      ],
                      "sequentialminus": [
                        [
                          0,
                          "#0d0887"
                        ],
                        [
                          0.1111111111111111,
                          "#46039f"
                        ],
                        [
                          0.2222222222222222,
                          "#7201a8"
                        ],
                        [
                          0.3333333333333333,
                          "#9c179e"
                        ],
                        [
                          0.4444444444444444,
                          "#bd3786"
                        ],
                        [
                          0.5555555555555556,
                          "#d8576b"
                        ],
                        [
                          0.6666666666666666,
                          "#ed7953"
                        ],
                        [
                          0.7777777777777778,
                          "#fb9f3a"
                        ],
                        [
                          0.8888888888888888,
                          "#fdca26"
                        ],
                        [
                          1,
                          "#f0f921"
                        ]
                      ]
                    },
                    "colorway": [
                      "#636efa",
                      "#EF553B",
                      "#00cc96",
                      "#ab63fa",
                      "#FFA15A",
                      "#19d3f3",
                      "#FF6692",
                      "#B6E880",
                      "#FF97FF",
                      "#FECB52"
                    ],
                    "font": {
                      "color": "#2a3f5f"
                    },
                    "geo": {
                      "bgcolor": "white",
                      "lakecolor": "white",
                      "landcolor": "white",
                      "showlakes": true,
                      "showland": true,
                      "subunitcolor": "#C8D4E3"
                    },
                    "hoverlabel": {
                      "align": "left"
                    },
                    "hovermode": "closest",
                    "mapbox": {
                      "style": "light"
                    },
                    "paper_bgcolor": "white",
                    "plot_bgcolor": "white",
                    "polar": {
                      "angularaxis": {
                        "gridcolor": "#EBF0F8",
                        "linecolor": "#EBF0F8",
                        "ticks": ""
                      },
                      "bgcolor": "white",
                      "radialaxis": {
                        "gridcolor": "#EBF0F8",
                        "linecolor": "#EBF0F8",
                        "ticks": ""
                      }
                    },
                    "scene": {
                      "xaxis": {
                        "backgroundcolor": "white",
                        "gridcolor": "#DFE8F3",
                        "gridwidth": 2,
                        "linecolor": "#EBF0F8",
                        "showbackground": true,
                        "ticks": "",
                        "zerolinecolor": "#EBF0F8"
                      },
                      "yaxis": {
                        "backgroundcolor": "white",
                        "gridcolor": "#DFE8F3",
                        "gridwidth": 2,
                        "linecolor": "#EBF0F8",
                        "showbackground": true,
                        "ticks": "",
                        "zerolinecolor": "#EBF0F8"
                      },
                      "zaxis": {
                        "backgroundcolor": "white",
                        "gridcolor": "#DFE8F3",
                        "gridwidth": 2,
                        "linecolor": "#EBF0F8",
                        "showbackground": true,
                        "ticks": "",
                        "zerolinecolor": "#EBF0F8"
                      }
                    },
                    "shapedefaults": {
                      "line": {
                        "color": "#2a3f5f"
                      }
                    },
                    "ternary": {
                      "aaxis": {
                        "gridcolor": "#DFE8F3",
                        "linecolor": "#A2B1C6",
                        "ticks": ""
                      },
                      "baxis": {
                        "gridcolor": "#DFE8F3",
                        "linecolor": "#A2B1C6",
                        "ticks": ""
                      },
                      "bgcolor": "white",
                      "caxis": {
                        "gridcolor": "#DFE8F3",
                        "linecolor": "#A2B1C6",
                        "ticks": ""
                      }
                    },
                    "title": {
                      "x": 0.05
                    },
                    "xaxis": {
                      "automargin": true,
                      "gridcolor": "#EBF0F8",
                      "linecolor": "#EBF0F8",
                      "ticks": "",
                      "title": {
                        "standoff": 15
                      },
                      "zerolinecolor": "#EBF0F8",
                      "zerolinewidth": 2
                    },
                    "yaxis": {
                      "automargin": true,
                      "gridcolor": "#EBF0F8",
                      "linecolor": "#EBF0F8",
                      "ticks": "",
                      "title": {
                        "standoff": 15
                      },
                      "zerolinecolor": "#EBF0F8",
                      "zerolinewidth": 2
                    }
                  }
                },
                "title": {
                  "text": "Variance Explained by Top 2 PCs vs. Number of Targets"
                },
                "width": 600,
                "xaxis": {
                  "title": {
                    "text": "Number of Targets"
                  }
                },
                "yaxis": {
                  "range": [
                    0,
                    1
                  ],
                  "title": {
                    "text": "Variance Explained (Top 2 PCs)"
                  }
                }
              }
            }
          },
          "metadata": {},
          "output_type": "display_data"
        }
      ],
      "source": []
    }
  ],
  "metadata": {
    "colab": {
      "collapsed_sections": [
        "B2bph5cR7aj5"
      ],
      "provenance": []
    },
    "kernel": {
      "display_name": "Python 3",
      "language": "python",
      "name": "python3"
    },
    "kernelspec": {
      "display_name": "base",
      "language": "python",
      "name": "python3"
    },
    "language_info": {
      "codemirror_mode": {
        "name": "ipython",
        "version": 3
      },
      "file_extension": ".py",
      "mimetype": "text/x-python",
      "name": "python",
      "nbconvert_exporter": "python",
      "pygments_lexer": "ipython3",
      "version": "3.12.7"
    }
  },
  "nbformat": 4,
  "nbformat_minor": 0
}
