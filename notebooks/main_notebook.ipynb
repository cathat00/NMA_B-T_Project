{
  "cells": [
    {
      "cell_type": "markdown",
      "metadata": {
        "execution": {},
        "id": "9X-qvMhHP4sy"
      },
      "source": [
        "## Setup\n",
        "Installs and imports necessary modules from Github.\n",
        "\n",
        "Trouble running this? Try restarting the Colab session (\"Runtime\" --> \"Restart Session\").\n",
        "\n",
        "If you're working in your own branch in the Github repo, change the wget commands to point towards that branch."
      ]
    },
    {
      "cell_type": "code",
      "source": [
        "!mkdir -p modules\n",
        "!wget -q https://raw.githubusercontent.com/cathat00/NMA_B-T_Project/calebs_branch/modules/network.py -O modules/network.py\n",
        "!wget -q https://raw.githubusercontent.com/cathat00/NMA_B-T_Project/calebs_branch/modules/tasks.py -O modules/tasks.py\n",
        "!wget -q https://raw.githubusercontent.com/cathat00/NMA_B-T_Project/calebs_branch/modules/bci.py -O modules/bci.py\n",
        "\n",
        "import numpy as np\n",
        "import matplotlib.pyplot as plt # Matplotlib for visualization\n",
        "import plotly.express as px # Plotly library for visualization\n",
        "\n",
        "import modules.tasks as tasks\n",
        "from modules.network import RNN\n",
        "from modules.bci import BCI"
      ],
      "metadata": {
        "id": "gJl1T98wW9ZD"
      },
      "execution_count": 4,
      "outputs": []
    },
    {
      "cell_type": "markdown",
      "source": [
        "##Train and Evaluate the Model"
      ],
      "metadata": {
        "id": "gQlc3ex9YrFm"
      }
    },
    {
      "cell_type": "code",
      "source": [
        "# == Initialization ==\n",
        "# Initialize the network and task\n",
        "rnn = RNN() # Recurrent Neural Network\n",
        "task = tasks.BasicReachingTask() # Basic reaching task\n",
        "bci = BCI(rnn, task.target_max) # Brain computer interface\n",
        "\n",
        "# == Simulate Learning ==\n",
        "# Traing the RNN\n",
        "# rnn.relearn()\n",
        "# Train the BCI\n",
        "# bci.train()\n",
        "\n",
        "# == Evaluate Learning ==\n",
        "# -- Calculate MSE\n",
        "# MSE must be computed retrospectively\n",
        "# using the trained BCI.\n",
        "# ... TODO\n",
        "# -- Compute Manifold\n",
        "# ... TODO\n",
        "# -- Calculate Manifold Surface Area\n",
        "# ... TODO\n",
        "\n",
        "# == Visualize Results ==\n",
        "# -- Plot MSE\n",
        "# ... TODO\n",
        "# -- Plot Manifold\n",
        "# 3D Manifold visualization is saved to\n",
        "# a plotly .HTML file under the \"results\"\n",
        "# folder. You can download it and open in\n",
        "# your favorite browser!\n",
        "# ... TODO\n",
        "# -- Plot Manifold Surface Area\n",
        "# ... TODO\n"
      ],
      "metadata": {
        "id": "c2OmpnKZYPdo"
      },
      "execution_count": 5,
      "outputs": []
    },
    {
      "cell_type": "code",
      "source": [],
      "metadata": {
        "id": "vo4WB_Ohm-5_"
      },
      "execution_count": null,
      "outputs": []
    }
  ],
  "metadata": {
    "colab": {
      "collapsed_sections": [
        "B2bph5cR7aj5"
      ],
      "provenance": []
    },
    "kernel": {
      "display_name": "Python 3",
      "language": "python",
      "name": "python3"
    },
    "kernelspec": {
      "display_name": "Python 3",
      "name": "python3"
    },
    "language_info": {
      "codemirror_mode": {
        "name": "ipython",
        "version": 3
      },
      "file_extension": ".py",
      "mimetype": "text/x-python",
      "name": "python",
      "nbconvert_exporter": "python",
      "pygments_lexer": "ipython3",
      "version": "3.9.17"
    }
  },
  "nbformat": 4,
  "nbformat_minor": 0
}