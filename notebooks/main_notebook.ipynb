{
  "cells": [
    {
      "cell_type": "markdown",
      "metadata": {
        "execution": {},
        "id": "9X-qvMhHP4sy"
      },
      "source": [
        "## Setup\n",
        "Installs and imports necessary modules from Github.\n",
        "\n",
        "Trouble running this? Try restarting the Colab session (\"Runtime\" --> \"Restart Session\").\n",
        "\n",
        "If you're working in your own branch in the Github repo, change the wget commands to point towards that branch."
      ]
    },
    {
      "cell_type": "code",
      "source": [
        "# Get all scripts from the modules folder in Github\n",
        "!mkdir -p modules\n",
        "base_url = \"https://raw.githubusercontent.com/cathat00/NMA_B-T_Project/main/modules/\"\n",
        "files = [\"configs.py\", \"plots.py\", \"network.py\", \"tasks.py\", \"bci.py\"]\n",
        "for file in files:\n",
        "    !wget -q \"{base_url}{file}\" -O \"modules/{file}\"\n",
        "\n",
        "# Imports for this script\n",
        "import numpy as np\n",
        "import modules.configs as configs\n",
        "import modules.plots as plots"
      ],
      "metadata": {
        "id": "gJl1T98wW9ZD"
      },
      "execution_count": 2,
      "outputs": []
    },
    {
      "cell_type": "markdown",
      "source": [
        "##Train and Evaluate the Model"
      ],
      "metadata": {
        "id": "gQlc3ex9YrFm"
      }
    },
    {
      "cell_type": "code",
      "source": [
        "# ====================\n",
        "# == Initialization ==\n",
        "# ====================\n",
        "\n",
        "cfg = configs.BasicExperimentConfig()\n",
        "task = cfg.task # The task the RNN will learn\n",
        "rnn = cfg.rnn # Recurrent Neural Network\n",
        "bci = cfg.bci # Brain computer interface\n",
        "feedback = cfg.feedback # Mathematically optimal feedback\n",
        "\n",
        "\n",
        "# =======================\n",
        "# == Simulate Learning ==\n",
        "# =======================\n",
        "\n",
        "# -- Train the RNN\n",
        "print(f\"Training the RNN for {cfg.ntrials} trials...\")\n",
        "rnn.relearn(\n",
        "    ntrials=cfg.ntrials,\n",
        "    ext=task.stimuli,\n",
        "    ntstart=task.stim_length,\n",
        "    decoder=bci.decoder,\n",
        "    feedback=feedback,\n",
        "    target=task.targets,\n",
        ")\n",
        "\n",
        "# -- Compute Manifold\n",
        "print(f\"Computing manifold over {cfg.ntrials_manifold} trials...\")\n",
        "np.random.seed(2) # Set seed for manifold calculation...\n",
        "manifold_data = rnn.get_manifold(task.stimuli, task.stim_length, ntrials=cfg.ntrials_manifold)\n",
        "manifold_activity = manifold_data['proj_reshaped']\n",
        "targets_by_trial = manifold_data['order']\n",
        "\n",
        "# -- Train the BCI\n",
        "bci.train(\n",
        "    manifold_activity,\n",
        "    manifold_data['eigenvecs'],\n",
        "    task.targets[:,task.stim_length,:],\n",
        "    targets_by_trial\n",
        ")\n",
        "\n",
        "# -- Calculate loss retrospectively using trained BCI\n",
        "pred_coords = manifold_activity @ bci.decoder.T\n",
        "final_loss = task.get_loss(pred_coords, targets_by_trial)\n",
        "print(final_loss)\n",
        "\n",
        "\n",
        "# =======================\n",
        "# == Visualize Results ==\n",
        "# =======================\n",
        "# -- Plot Manifold and Scree Plots\n",
        "#plots.plot_traj(manifold_activity, manifold_data['eigenvals']).show()\n",
        "\n",
        "\n",
        "# ==================\n",
        "# == Save Results ==\n",
        "# ==================\n",
        "cfg.save(\"result.pkl\", manifold_data)\n"
      ],
      "metadata": {
        "id": "c2OmpnKZYPdo",
        "colab": {
          "base_uri": "https://localhost:8080/",
          "height": 280
        },
        "outputId": "fe57e6e9-467b-46bf-f1ed-1d9ce0b8f926"
      },
      "execution_count": 3,
      "outputs": [
        {
          "output_type": "stream",
          "name": "stdout",
          "text": [
            "Training the RNN for 80 trials...\n"
          ]
        },
        {
          "output_type": "stream",
          "name": "stderr",
          "text": [
            "100%|██████████| 80/80 [07:13<00:00,  5.42s/it]\n"
          ]
        },
        {
          "output_type": "stream",
          "name": "stdout",
          "text": [
            "Computing manifold over 50 trials...\n"
          ]
        },
        {
          "output_type": "stream",
          "name": "stderr",
          "text": [
            "100%|██████████| 50/50 [00:06<00:00,  7.87it/s]\n"
          ]
        },
        {
          "output_type": "error",
          "ename": "AttributeError",
          "evalue": "'BasicReachingTask' object has no attribute 'target'",
          "traceback": [
            "\u001b[0;31m---------------------------------------------------------------------------\u001b[0m",
            "\u001b[0;31mAttributeError\u001b[0m                            Traceback (most recent call last)",
            "\u001b[0;32m/tmp/ipython-input-3-2875065359.py\u001b[0m in \u001b[0;36m<cell line: 0>\u001b[0;34m()\u001b[0m\n\u001b[1;32m     36\u001b[0m bci.train(\n\u001b[1;32m     37\u001b[0m     \u001b[0mmanifold_activity\u001b[0m\u001b[0;34m,\u001b[0m\u001b[0;34m\u001b[0m\u001b[0;34m\u001b[0m\u001b[0m\n\u001b[0;32m---> 38\u001b[0;31m     \u001b[0mtask\u001b[0m\u001b[0;34m.\u001b[0m\u001b[0mtarget\u001b[0m\u001b[0;34m[\u001b[0m\u001b[0;34m:\u001b[0m\u001b[0;34m,\u001b[0m\u001b[0mtask\u001b[0m\u001b[0;34m.\u001b[0m\u001b[0mstim_length\u001b[0m\u001b[0;34m,\u001b[0m\u001b[0;34m:\u001b[0m\u001b[0;34m]\u001b[0m\u001b[0;34m,\u001b[0m\u001b[0;34m\u001b[0m\u001b[0;34m\u001b[0m\u001b[0m\n\u001b[0m\u001b[1;32m     39\u001b[0m     \u001b[0mtargets_by_trial\u001b[0m\u001b[0;34m\u001b[0m\u001b[0;34m\u001b[0m\u001b[0m\n\u001b[1;32m     40\u001b[0m )\n",
            "\u001b[0;31mAttributeError\u001b[0m: 'BasicReachingTask' object has no attribute 'target'"
          ]
        }
      ]
    },
    {
      "cell_type": "code",
      "source": [],
      "metadata": {
        "id": "XVcCMYC-grX2"
      },
      "execution_count": null,
      "outputs": []
    }
  ],
  "metadata": {
    "colab": {
      "collapsed_sections": [
        "B2bph5cR7aj5"
      ],
      "provenance": []
    },
    "kernel": {
      "display_name": "Python 3",
      "language": "python",
      "name": "python3"
    },
    "kernelspec": {
      "display_name": "Python 3",
      "name": "python3"
    },
    "language_info": {
      "codemirror_mode": {
        "name": "ipython",
        "version": 3
      },
      "file_extension": ".py",
      "mimetype": "text/x-python",
      "name": "python",
      "nbconvert_exporter": "python",
      "pygments_lexer": "ipython3",
      "version": "3.9.17"
    }
  },
  "nbformat": 4,
  "nbformat_minor": 0
}