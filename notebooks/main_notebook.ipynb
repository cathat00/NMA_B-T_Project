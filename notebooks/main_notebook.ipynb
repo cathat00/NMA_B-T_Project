{
  "cells": [
    {
      "cell_type": "markdown",
      "metadata": {
        "execution": {},
        "id": "9X-qvMhHP4sy"
      },
      "source": [
        "## Setup\n",
        "Installs and imports necessary modules from Github.\n",
        "\n",
        "Having trouble getting this to run? Try restarting the Colab session (\"/Runtime/Restart Session\")."
      ]
    },
    {
      "cell_type": "code",
      "source": [
        "!mkdir -p modules\n",
        "!wget -q https://raw.githubusercontent.com/cathat00/NMA_B-T_Project/main/modules/network.py -O modules/network.py\n",
        "\n",
        "from modules.network import RNN"
      ],
      "metadata": {
        "id": "gJl1T98wW9ZD"
      },
      "execution_count": 8,
      "outputs": []
    },
    {
      "cell_type": "markdown",
      "source": [
        "##Train and Evaluate the Model"
      ],
      "metadata": {
        "id": "gQlc3ex9YrFm"
      }
    },
    {
      "cell_type": "code",
      "source": [
        "# Initialize the RNN\n",
        "net = RNN()"
      ],
      "metadata": {
        "id": "c2OmpnKZYPdo"
      },
      "execution_count": 10,
      "outputs": []
    },
    {
      "cell_type": "code",
      "source": [],
      "metadata": {
        "id": "aNCeLXlAY7I4"
      },
      "execution_count": null,
      "outputs": []
    }
  ],
  "metadata": {
    "colab": {
      "collapsed_sections": [
        "B2bph5cR7aj5"
      ],
      "provenance": []
    },
    "kernel": {
      "display_name": "Python 3",
      "language": "python",
      "name": "python3"
    },
    "kernelspec": {
      "display_name": "Python 3",
      "name": "python3"
    },
    "language_info": {
      "codemirror_mode": {
        "name": "ipython",
        "version": 3
      },
      "file_extension": ".py",
      "mimetype": "text/x-python",
      "name": "python",
      "nbconvert_exporter": "python",
      "pygments_lexer": "ipython3",
      "version": "3.9.17"
    }
  },
  "nbformat": 4,
  "nbformat_minor": 0
}