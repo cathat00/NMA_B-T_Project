{
  "cells": [
    {
      "cell_type": "markdown",
      "metadata": {
        "execution": {},
        "id": "9X-qvMhHP4sy"
      },
      "source": [
        "## Setup\n",
        "Installs and imports necessary modules from Github.\n",
        "\n",
        "Trouble running this? Try restarting the Colab session (\"/Runtime/Restart Session\")."
      ]
    },
    {
      "cell_type": "code",
      "source": [
        "!mkdir -p modules\n",
        "!wget -q https://raw.githubusercontent.com/cathat00/NMA_B-T_Project/main/modules/network.py -O modules/network.py\n",
        "!wget -q https://raw.githubusercontent.com/cathat00/NMA_B-T_Project/main/modules/tasks.py -O modules/tasks.py\n",
        "\n",
        "import numpy as np\n",
        "import matplotlib.pyplot as plt # Matplotlib for visualization\n",
        "import plotly.express as px # Plotly library for visualization\n",
        "\n",
        "import modules.tasks as tasks\n",
        "from modules.network import RNN"
      ],
      "metadata": {
        "id": "gJl1T98wW9ZD"
      },
      "execution_count": 1,
      "outputs": []
    },
    {
      "cell_type": "markdown",
      "source": [
        "##Train and Evaluate the Model"
      ],
      "metadata": {
        "id": "gQlc3ex9YrFm"
      }
    },
    {
      "cell_type": "code",
      "source": [
        "# == Initialization ==\n",
        "# Initialize the network\n",
        "net = RNN()\n",
        "# Initialize the task\n",
        "task = ReachingTask()\n",
        "stimuli = task.stimuli\n",
        "targets = task.targets\n",
        "\n",
        "# == Simulate Learning ==\n",
        "# Traing the RNN\n",
        "# ... TODO\n",
        "# Train the BCI\n",
        "# ... TODO\n",
        "\n",
        "# == Evaluate Learning ==\n",
        "# Compute Manifold\n",
        "# ... TODO\n",
        "# Calculate Manifold Surface Area\n",
        "# ... TODO\n",
        "# Calculate MSE\n",
        "# ... TODO\n",
        "\n",
        "# == Visualize Results ==\n",
        "# Plot Manifold\n",
        "# 3D Manifold visualization is saved to\n",
        "# a plotly .HTML file under the \"results\"\n",
        "# folder. You can download it and open in\n",
        "# your favorite browser!\n",
        "# ... TODO\n",
        "# Plot MSE\n",
        "# ... TODO"
      ],
      "metadata": {
        "id": "c2OmpnKZYPdo"
      },
      "execution_count": 10,
      "outputs": []
    },
    {
      "cell_type": "code",
      "source": [],
      "metadata": {
        "id": "IbloYsXzazUB"
      },
      "execution_count": null,
      "outputs": []
    }
  ],
  "metadata": {
    "colab": {
      "collapsed_sections": [
        "B2bph5cR7aj5"
      ],
      "provenance": []
    },
    "kernel": {
      "display_name": "Python 3",
      "language": "python",
      "name": "python3"
    },
    "kernelspec": {
      "display_name": "Python 3",
      "name": "python3"
    },
    "language_info": {
      "codemirror_mode": {
        "name": "ipython",
        "version": 3
      },
      "file_extension": ".py",
      "mimetype": "text/x-python",
      "name": "python",
      "nbconvert_exporter": "python",
      "pygments_lexer": "ipython3",
      "version": "3.9.17"
    }
  },
  "nbformat": 4,
  "nbformat_minor": 0
}