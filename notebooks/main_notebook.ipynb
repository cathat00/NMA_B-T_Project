{
  "cells": [
    {
      "cell_type": "markdown",
      "metadata": {
        "execution": {},
        "id": "9X-qvMhHP4sy"
      },
      "source": [
        "## Setup\n",
        "Installs and imports necessary modules from Github.\n",
        "\n",
        "Trouble running this? Try restarting the Colab session (\"Runtime\" --> \"Restart Session\").\n",
        "\n",
        "If you're working in your own branch in the Github repo, change the wget commands to point towards that branch."
      ]
    },
    {
      "cell_type": "code",
      "execution_count": null,
      "metadata": {
        "id": "gJl1T98wW9ZD"
      },
      "outputs": [
        {
          "name": "stderr",
          "output_type": "stream",
          "text": [
            "A subdirectory or file -p already exists.\n",
            "Error occurred while processing: -p.\n",
            "A subdirectory or file modules already exists.\n",
            "Error occurred while processing: modules.\n",
            "'wget' is not recognized as an internal or external command,\n",
            "operable program or batch file.\n",
            "'wget' is not recognized as an internal or external command,\n",
            "operable program or batch file.\n",
            "'wget' is not recognized as an internal or external command,\n",
            "operable program or batch file.\n",
            "'wget' is not recognized as an internal or external command,\n",
            "operable program or batch file.\n"
          ]
        },
        {
          "ename": "ModuleNotFoundError",
          "evalue": "No module named 'modules.tasks'",
          "output_type": "error",
          "traceback": [
            "\u001b[1;31m---------------------------------------------------------------------------\u001b[0m",
            "\u001b[1;31mModuleNotFoundError\u001b[0m                       Traceback (most recent call last)",
            "Cell \u001b[1;32mIn[4], line 8\u001b[0m\n\u001b[0;32m      5\u001b[0m get_ipython()\u001b[38;5;241m.\u001b[39msystem(\u001b[38;5;124m'\u001b[39m\u001b[38;5;124mwget -q https://raw.githubusercontent.com/htruong05/NMA_B-T_Project/main/modules/plots.py -O modules/plots.py\u001b[39m\u001b[38;5;124m'\u001b[39m)\n\u001b[0;32m      7\u001b[0m \u001b[38;5;28;01mimport\u001b[39;00m \u001b[38;5;21;01mnumpy\u001b[39;00m \u001b[38;5;28;01mas\u001b[39;00m \u001b[38;5;21;01mnp\u001b[39;00m\n\u001b[1;32m----> 8\u001b[0m \u001b[38;5;28;01mimport\u001b[39;00m \u001b[38;5;21;01mmodules\u001b[39;00m\u001b[38;5;21;01m.\u001b[39;00m\u001b[38;5;21;01mtasks\u001b[39;00m \u001b[38;5;28;01mas\u001b[39;00m \u001b[38;5;21;01mtasks\u001b[39;00m\n\u001b[0;32m      9\u001b[0m \u001b[38;5;28;01mfrom\u001b[39;00m \u001b[38;5;21;01mmodules\u001b[39;00m\u001b[38;5;21;01m.\u001b[39;00m\u001b[38;5;21;01mnetwork\u001b[39;00m \u001b[38;5;28;01mimport\u001b[39;00m RNN\n\u001b[0;32m     10\u001b[0m \u001b[38;5;28;01mfrom\u001b[39;00m \u001b[38;5;21;01mmodules\u001b[39;00m\u001b[38;5;21;01m.\u001b[39;00m\u001b[38;5;21;01mbci\u001b[39;00m \u001b[38;5;28;01mimport\u001b[39;00m BCI\n",
            "\u001b[1;31mModuleNotFoundError\u001b[0m: No module named 'modules.tasks'"
          ]
        }
      ],
      "source": [
        "!mkdir -p modules\n",
        "!wget -q https://raw.githubusercontent.com/htruong05/NMA_B-T_Project/main/modules/network.py -O modules/network.py\n",
        "!wget -q https://raw.githubusercontent.com/htruong05/NMA_B-T_Project/main/modules/tasks.py -O modules/tasks.py\n",
        "!wget -q https://raw.githubusercontent.com/htruong05/NMA_B-T_Project/main/modules/bci.py -O modules/bci.py\n",
        "!wget -q https://raw.githubusercontent.com/htruong05/NMA_B-T_Project/main/modules/plots.py -O modules/plots.py\n",
        "\n",
        "import numpy as np\n",
        "import modules.tasks as tasks\n",
        "from modules.network import RNN\n",
        "from modules.bci import BCI\n",
        "from modules.plots import plot_pca_summary"
      ]
    },
    {
      "cell_type": "code",
      "execution_count": 6,
      "metadata": {},
      "outputs": [
        {
          "name": "stdout",
          "output_type": "stream",
          "text": [
            "Downloaded network.py to modules\\network.py\n",
            "Downloaded tasks.py to modules\\tasks.py\n",
            "Downloaded bci.py to modules\\bci.py\n",
            "Downloaded plots.py to modules\\plots.py\n"
          ]
        }
      ],
      "source": [
        "import os\n",
        "import urllib.request\n",
        "\n",
        "# Create the modules directory if it doesn't exist\n",
        "os.makedirs(\"modules\", exist_ok=True)\n",
        "\n",
        "# List of files to download\n",
        "files = [\"network.py\", \"tasks.py\", \"bci.py\", \"plots.py\"]\n",
        "base_url = \"https://raw.githubusercontent.com/cathat00/NMA_B-T_Project/main/modules/\"\n",
        "\n",
        "# Download each file\n",
        "for file in files:\n",
        "    url = base_url + file\n",
        "    destination = os.path.join(\"modules\", file)\n",
        "    urllib.request.urlretrieve(url, destination)\n",
        "    print(f\"Downloaded {file} to {destination}\")"
      ]
    },
    {
      "cell_type": "code",
      "execution_count": 8,
      "metadata": {},
      "outputs": [],
      "source": [
        "import numpy as np\n",
        "import modules.tasks as tasks\n",
        "from modules.network import RNN\n",
        "from modules.bci import BCI\n",
        "from modules.plots import plot_pca_summary, save_figs"
      ]
    },
    {
      "cell_type": "markdown",
      "metadata": {
        "id": "gQlc3ex9YrFm"
      },
      "source": [
        "##Train and Evaluate the Model"
      ]
    },
    {
      "cell_type": "code",
      "execution_count": 10,
      "metadata": {
        "colab": {
          "base_uri": "https://localhost:8080/",
          "height": 586
        },
        "id": "c2OmpnKZYPdo",
        "outputId": "d96e6445-fc47-4208-b30c-813e50850841"
      },
      "outputs": [
        {
          "name": "stdout",
          "output_type": "stream",
          "text": [
            "Training the RNN for 80 trials...\n"
          ]
        },
        {
          "name": "stderr",
          "output_type": "stream",
          "text": [
            "  2%|▎         | 2/80 [00:08<05:23,  4.15s/it]\n"
          ]
        },
        {
          "ename": "KeyboardInterrupt",
          "evalue": "",
          "output_type": "error",
          "traceback": [
            "\u001b[1;31m---------------------------------------------------------------------------\u001b[0m",
            "\u001b[1;31mKeyboardInterrupt\u001b[0m                         Traceback (most recent call last)",
            "Cell \u001b[1;32mIn[10], line 21\u001b[0m\n\u001b[0;32m     19\u001b[0m \u001b[38;5;66;03m# -- Train the RNN\u001b[39;00m\n\u001b[0;32m     20\u001b[0m \u001b[38;5;28mprint\u001b[39m(\u001b[38;5;124mf\u001b[39m\u001b[38;5;124m\"\u001b[39m\u001b[38;5;124mTraining the RNN for \u001b[39m\u001b[38;5;132;01m{\u001b[39;00mntrials\u001b[38;5;132;01m}\u001b[39;00m\u001b[38;5;124m trials...\u001b[39m\u001b[38;5;124m\"\u001b[39m)\n\u001b[1;32m---> 21\u001b[0m rnn\u001b[38;5;241m.\u001b[39mrelearn(\n\u001b[0;32m     22\u001b[0m     ntrials\u001b[38;5;241m=\u001b[39mntrials,\n\u001b[0;32m     23\u001b[0m     ext\u001b[38;5;241m=\u001b[39mtask\u001b[38;5;241m.\u001b[39mstimuli,\n\u001b[0;32m     24\u001b[0m     ntstart\u001b[38;5;241m=\u001b[39mtask\u001b[38;5;241m.\u001b[39mstim_length,\n\u001b[0;32m     25\u001b[0m     decoder\u001b[38;5;241m=\u001b[39mbci\u001b[38;5;241m.\u001b[39mdecoder,\n\u001b[0;32m     26\u001b[0m     feedback\u001b[38;5;241m=\u001b[39mfeedback,\n\u001b[0;32m     27\u001b[0m     target\u001b[38;5;241m=\u001b[39mtask\u001b[38;5;241m.\u001b[39mtargets,\n\u001b[0;32m     28\u001b[0m     delta\u001b[38;5;241m=\u001b[39m\u001b[38;5;241m20.\u001b[39m,\n\u001b[0;32m     29\u001b[0m )\n\u001b[0;32m     31\u001b[0m \u001b[38;5;66;03m# -- Compute Manifold\u001b[39;00m\n\u001b[0;32m     32\u001b[0m \u001b[38;5;28mprint\u001b[39m(\u001b[38;5;124mf\u001b[39m\u001b[38;5;124m\"\u001b[39m\u001b[38;5;124mComputing manifold over \u001b[39m\u001b[38;5;132;01m{\u001b[39;00mntrials_manifold\u001b[38;5;132;01m}\u001b[39;00m\u001b[38;5;124m trials...\u001b[39m\u001b[38;5;124m\"\u001b[39m)\n",
            "File \u001b[1;32mc:\\Users\\leoch\\Downloads\\Neuromatch\\NMA_B-T_Project\\notebooks\\modules\\network.py:193\u001b[0m, in \u001b[0;36mRNN.relearn\u001b[1;34m(self, ntrials, ext, ntstart, decoder, feedback, target, delta, wplastic)\u001b[0m\n\u001b[0;32m    189\u001b[0m             \u001b[38;5;28mself\u001b[39m\u001b[38;5;241m.\u001b[39mP[j] \u001b[38;5;241m-\u001b[39m\u001b[38;5;241m=\u001b[39m np\u001b[38;5;241m.\u001b[39mouter(pz, pz)\u001b[38;5;241m/\u001b[39mnorm\n\u001b[0;32m    191\u001b[0m             \u001b[38;5;66;03m# use error-transformed feedbacks to update\u001b[39;00m\n\u001b[0;32m    192\u001b[0m             \u001b[38;5;66;03m# plastic weights\u001b[39;00m\n\u001b[1;32m--> 193\u001b[0m             \u001b[38;5;28mself\u001b[39m\u001b[38;5;241m.\u001b[39mW[j, \u001b[38;5;28mself\u001b[39m\u001b[38;5;241m.\u001b[39mW_plastic[j]] \u001b[38;5;241m-\u001b[39m\u001b[38;5;241m=\u001b[39m err1[j] \u001b[38;5;241m*\u001b[39m pz \u001b[38;5;241m/\u001b[39m norm\n\u001b[0;32m    195\u001b[0m \u001b[38;5;66;03m# tape loss\u001b[39;00m\n\u001b[0;32m    196\u001b[0m record_loss[t] \u001b[38;5;241m=\u001b[39m loss\n",
            "\u001b[1;31mKeyboardInterrupt\u001b[0m: "
          ]
        }
      ],
      "source": [
        "# ====================\n",
        "# == Initialization ==\n",
        "# ====================\n",
        "\n",
        "np.random.seed(2) # Random seed for this simulation\n",
        "\n",
        "task = tasks.BasicReachingTask() # The task the RNN will learn\n",
        "rnn = RNN(N_in=task.ntargets, verbosity=1) # Recurrent Neural Network\n",
        "bci = BCI(rnn, task.target_max) # Brain computer interface\n",
        "feedback = np.linalg.pinv(bci.decoder) # Mathematically optimal feedback\n",
        "\n",
        "\n",
        "# =======================\n",
        "# == Simulate Learning ==\n",
        "# =======================\n",
        "ntrials = 80 # Number of trials to train the RNN for\n",
        "ntrials_manifold = 50 # Number of trials for manifold computation\n",
        "\n",
        "# -- Train the RNN\n",
        "print(f\"Training the RNN for {ntrials} trials...\")\n",
        "rnn.relearn(\n",
        "    ntrials=ntrials,\n",
        "    ext=task.stimuli,\n",
        "    ntstart=task.stim_length,\n",
        "    decoder=bci.decoder,\n",
        "    feedback=feedback,\n",
        "    target=task.targets,\n",
        "    delta=20.,\n",
        ")\n",
        "\n",
        "# -- Compute Manifold\n",
        "print(f\"Computing manifold over {ntrials_manifold} trials...\")\n",
        "manifold_data = rnn.get_manifold(task.stimuli, task.stim_length)\n",
        "manifold_activity = manifold_data['proj_reshaped']\n",
        "eigenvalues = manifold_data['eigenvals']\n",
        "\n",
        "# -- Train the BCI\n",
        "# ... TODO (How should this work? Check Feulner's code.)\n",
        "\n",
        "\n",
        "# =======================\n",
        "# == Evaluate Learning ==\n",
        "# =======================\n",
        "# -- Calculate MSE\n",
        "# (MSE must be computed retrospectively using the trained BCI)\n",
        "# ... TODO\n",
        "# -- Calculate Manifold Surface Area / Perturbation Sensitity\n",
        "# ... TODO\n",
        "\n",
        "\n",
        "# =======================\n",
        "# == Visualize Results ==\n",
        "# =======================\n",
        "# -- Plot Manifold and Scree Plots\n",
        "plot_pca_summary(manifold_activity, eigenvalues).show()"
      ]
    }
  ],
  "metadata": {
    "colab": {
      "collapsed_sections": [
        "B2bph5cR7aj5"
      ],
      "provenance": []
    },
    "kernel": {
      "display_name": "Python 3",
      "language": "python",
      "name": "python3"
    },
    "kernelspec": {
      "display_name": "base",
      "language": "python",
      "name": "python3"
    },
    "language_info": {
      "codemirror_mode": {
        "name": "ipython",
        "version": 3
      },
      "file_extension": ".py",
      "mimetype": "text/x-python",
      "name": "python",
      "nbconvert_exporter": "python",
      "pygments_lexer": "ipython3",
      "version": "3.12.7"
    }
  },
  "nbformat": 4,
  "nbformat_minor": 0
}
