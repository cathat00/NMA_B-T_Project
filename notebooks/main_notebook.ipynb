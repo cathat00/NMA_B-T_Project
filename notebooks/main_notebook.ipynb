{
  "cells": [
    {
      "cell_type": "markdown",
      "metadata": {
        "execution": {},
        "id": "9X-qvMhHP4sy"
      },
      "source": [
        "## Setup\n",
        "Installs and imports necessary modules from Github.\n",
        "\n",
        "Trouble running this? Try restarting the Colab session (\"Runtime\" --> \"Restart Session\").\n",
        "\n",
        "If you're working in your own branch in the Github repo, change the wget commands to point towards that branch."
      ]
    },
    {
      "cell_type": "code",
      "source": [
        "!mkdir -p modules\n",
        "!wget -q https://raw.githubusercontent.com/cathat00/NMA_B-T_Project/calebs_branch/modules/network.py -O modules/network.py\n",
        "!wget -q https://raw.githubusercontent.com/cathat00/NMA_B-T_Project/calebs_branch/modules/tasks.py -O modules/tasks.py\n",
        "!wget -q https://raw.githubusercontent.com/cathat00/NMA_B-T_Project/calebs_branch/modules/bci.py -O modules/bci.py\n",
        "!wget -q https://raw.githubusercontent.com/cathat00/NMA_B-T_Project/calebs_branch/modules/plots.py -O modules/plots.py\n",
        "\n",
        "import numpy as np\n",
        "import matplotlib.pyplot as plt\n",
        "\n",
        "import modules.tasks as tasks\n",
        "from modules.network import RNN\n",
        "from modules.bci import BCI\n",
        "from modules.plots import plot_manifold_and_scree"
      ],
      "metadata": {
        "id": "gJl1T98wW9ZD"
      },
      "execution_count": 1,
      "outputs": []
    },
    {
      "cell_type": "markdown",
      "source": [
        "##Train and Evaluate the Model"
      ],
      "metadata": {
        "id": "gQlc3ex9YrFm"
      }
    },
    {
      "cell_type": "code",
      "source": [
        "# ====================\n",
        "# == Initialization ==\n",
        "# ====================\n",
        "\n",
        "np.random.seed(2) # Random seed for this simulation\n",
        "\n",
        "task = tasks.BasicReachingTask() # The task the RNN will learn\n",
        "rnn = RNN(N_in=task.ntargets, verbosity=1) # Recurrent Neural Network\n",
        "bci = BCI(rnn, task.target_max) # Brain computer interface\n",
        "feedback = np.linalg.pinv(bci.decoder) # Mathematically optimal feedback\n",
        "\n",
        "\n",
        "# =======================\n",
        "# == Simulate Learning ==\n",
        "# =======================\n",
        "ntrials = 80 # Number of trials to train the RNN for\n",
        "ntrials_manifold = 50 # Number of trials for manifold computation\n",
        "\n",
        "# -- Train the RNN\n",
        "print(f\"Training the RNN for {ntrials} trials...\")\n",
        "rnn.relearn(\n",
        "    ntrials=ntrials,\n",
        "    ext=task.stimuli,\n",
        "    ntstart=task.stim_length,\n",
        "    decoder=bci.decoder,\n",
        "    feedback=feedback,\n",
        "    target=task.targets,\n",
        "    delta=20.,\n",
        ")\n",
        "\n",
        "# -- Compute Manifold\n",
        "print(f\"Computing manifold over {ntrials_manifold} trials...\")\n",
        "manifold_data = rnn.get_manifold(task.stimuli, task.stim_length)\n",
        "manifold_activity = manifold_data['activity_proj']\n",
        "eigenvalues = manifold_data['eigenvals']\n",
        "\n",
        "# -- Train the BCI\n",
        "#bci.train()\n",
        "\n",
        "\n",
        "# =======================\n",
        "# == Evaluate Learning ==\n",
        "# =======================\n",
        "# -- Calculate MSE\n",
        "# (MSE must be computed retrospectively using the trained BCI)\n",
        "# ... TODO\n",
        "# -- Calculate Manifold Surface Area / Perturbation Sensitity\n",
        "# ... TODO\n",
        "\n",
        "\n",
        "# =======================\n",
        "# == Visualize Results ==\n",
        "# =======================\n",
        "# -- Plot MSE\n",
        "# ...TODO\n",
        "# -- Plot Manifold and Scree Plots\n",
        "plot_manifold_and_scree(manifold_activity, eigenvalues)\n",
        "# -- TODO (Other Plots?)"
      ],
      "metadata": {
        "id": "c2OmpnKZYPdo",
        "colab": {
          "base_uri": "https://localhost:8080/",
          "height": 280
        },
        "outputId": "3bd9ef1d-b2a4-4e76-8afe-89cd9eb3db16"
      },
      "execution_count": 2,
      "outputs": [
        {
          "output_type": "stream",
          "name": "stdout",
          "text": [
            "Training the RNN for 80 trials...\n"
          ]
        },
        {
          "output_type": "stream",
          "name": "stderr",
          "text": [
            "100%|██████████| 80/80 [06:40<00:00,  5.01s/it]\n"
          ]
        },
        {
          "output_type": "stream",
          "name": "stdout",
          "text": [
            "Computing manifold over 50 trials...\n"
          ]
        },
        {
          "output_type": "stream",
          "name": "stderr",
          "text": [
            "100%|██████████| 50/50 [00:04<00:00, 11.71it/s]\n"
          ]
        },
        {
          "output_type": "error",
          "ename": "KeyError",
          "evalue": "'manifold_activity'",
          "traceback": [
            "\u001b[0;31m---------------------------------------------------------------------------\u001b[0m",
            "\u001b[0;31mKeyError\u001b[0m                                  Traceback (most recent call last)",
            "\u001b[0;32m/tmp/ipython-input-2-4215157865.py\u001b[0m in \u001b[0;36m<cell line: 0>\u001b[0;34m()\u001b[0m\n\u001b[1;32m     32\u001b[0m \u001b[0mprint\u001b[0m\u001b[0;34m(\u001b[0m\u001b[0;34mf\"Computing manifold over {ntrials_manifold} trials...\"\u001b[0m\u001b[0;34m)\u001b[0m\u001b[0;34m\u001b[0m\u001b[0;34m\u001b[0m\u001b[0m\n\u001b[1;32m     33\u001b[0m \u001b[0mmanifold_data\u001b[0m \u001b[0;34m=\u001b[0m \u001b[0mrnn\u001b[0m\u001b[0;34m.\u001b[0m\u001b[0mget_manifold\u001b[0m\u001b[0;34m(\u001b[0m\u001b[0mtask\u001b[0m\u001b[0;34m.\u001b[0m\u001b[0mstimuli\u001b[0m\u001b[0;34m,\u001b[0m \u001b[0mtask\u001b[0m\u001b[0;34m.\u001b[0m\u001b[0mstim_length\u001b[0m\u001b[0;34m)\u001b[0m\u001b[0;34m\u001b[0m\u001b[0;34m\u001b[0m\u001b[0m\n\u001b[0;32m---> 34\u001b[0;31m \u001b[0mmanifold_activity\u001b[0m \u001b[0;34m=\u001b[0m \u001b[0mmanifold_data\u001b[0m\u001b[0;34m[\u001b[0m\u001b[0;34m'manifold_activity'\u001b[0m\u001b[0;34m]\u001b[0m\u001b[0;34m\u001b[0m\u001b[0;34m\u001b[0m\u001b[0m\n\u001b[0m\u001b[1;32m     35\u001b[0m \u001b[0meigenvalues\u001b[0m \u001b[0;34m=\u001b[0m \u001b[0mmanifold_data\u001b[0m\u001b[0;34m[\u001b[0m\u001b[0;34m'eigenvals'\u001b[0m\u001b[0;34m]\u001b[0m\u001b[0;34m\u001b[0m\u001b[0;34m\u001b[0m\u001b[0m\n\u001b[1;32m     36\u001b[0m \u001b[0;34m\u001b[0m\u001b[0m\n",
            "\u001b[0;31mKeyError\u001b[0m: 'manifold_activity'"
          ]
        }
      ]
    },
    {
      "cell_type": "code",
      "source": [
        "manifold_activity = manifold_data['activity_proj']\n",
        "eigenvalues = manifold_data['eigenvals']\n",
        "\n",
        "# -- Train the BCI\n",
        "#bci.train()\n",
        "\n",
        "\n",
        "# =======================\n",
        "# == Evaluate Learning ==\n",
        "# =======================\n",
        "# -- Calculate MSE\n",
        "# (MSE must be computed retrospectively using the trained BCI)\n",
        "# ... TODO\n",
        "# -- Calculate Manifold Surface Area / Perturbation Sensitity\n",
        "# ... TODO\n",
        "\n",
        "\n",
        "# =======================\n",
        "# == Visualize Results ==\n",
        "# =======================\n",
        "# -- Plot MSE\n",
        "# ...TODO\n",
        "# -- Plot Manifold and Scree Plots\n",
        "plot_manifold_and_scree(manifold_activity, eigenvalues)\n",
        "# -- TODO (Other Plots?)"
      ],
      "metadata": {
        "id": "KjLrCG1ddENN",
        "outputId": "c4ec3514-0190-47b4-cb05-045d6d2878d1",
        "colab": {
          "base_uri": "https://localhost:8080/",
          "height": 315
        }
      },
      "execution_count": 5,
      "outputs": [
        {
          "output_type": "error",
          "ename": "NameError",
          "evalue": "name 'get_manifold_plot' is not defined",
          "traceback": [
            "\u001b[0;31m---------------------------------------------------------------------------\u001b[0m",
            "\u001b[0;31mNameError\u001b[0m                                 Traceback (most recent call last)",
            "\u001b[0;32m/tmp/ipython-input-5-3761088006.py\u001b[0m in \u001b[0;36m<cell line: 0>\u001b[0;34m()\u001b[0m\n\u001b[1;32m     22\u001b[0m \u001b[0;31m# ...TODO\u001b[0m\u001b[0;34m\u001b[0m\u001b[0;34m\u001b[0m\u001b[0m\n\u001b[1;32m     23\u001b[0m \u001b[0;31m# -- Plot Manifold and Scree Plots\u001b[0m\u001b[0;34m\u001b[0m\u001b[0;34m\u001b[0m\u001b[0m\n\u001b[0;32m---> 24\u001b[0;31m \u001b[0mplot_manifold_and_scree\u001b[0m\u001b[0;34m(\u001b[0m\u001b[0mmanifold_activity\u001b[0m\u001b[0;34m,\u001b[0m \u001b[0meigenvalues\u001b[0m\u001b[0;34m)\u001b[0m\u001b[0;34m\u001b[0m\u001b[0;34m\u001b[0m\u001b[0m\n\u001b[0m\u001b[1;32m     25\u001b[0m \u001b[0;31m# -- TODO (Other Plots?)\u001b[0m\u001b[0;34m\u001b[0m\u001b[0;34m\u001b[0m\u001b[0m\n",
            "\u001b[0;32m/content/modules/plots.py\u001b[0m in \u001b[0;36mplot_manifold_and_scree\u001b[0;34m(manifold_activity, eigenvalues)\u001b[0m\n\u001b[1;32m     51\u001b[0m \u001b[0;32mdef\u001b[0m \u001b[0mplot_manifold_and_scree\u001b[0m\u001b[0;34m(\u001b[0m\u001b[0mmanifold_activity\u001b[0m\u001b[0;34m,\u001b[0m \u001b[0meigenvalues\u001b[0m\u001b[0;34m)\u001b[0m\u001b[0;34m:\u001b[0m\u001b[0;34m\u001b[0m\u001b[0;34m\u001b[0m\u001b[0m\n\u001b[1;32m     52\u001b[0m   \u001b[0;31m# Get the individual figures\u001b[0m\u001b[0;34m\u001b[0m\u001b[0;34m\u001b[0m\u001b[0m\n\u001b[0;32m---> 53\u001b[0;31m   \u001b[0mmanifold_fig\u001b[0m \u001b[0;34m=\u001b[0m \u001b[0mget_manifold_plot\u001b[0m\u001b[0;34m(\u001b[0m\u001b[0mmanifold_activity\u001b[0m\u001b[0;34m)\u001b[0m\u001b[0;34m\u001b[0m\u001b[0;34m\u001b[0m\u001b[0m\n\u001b[0m\u001b[1;32m     54\u001b[0m   \u001b[0mscree_fig\u001b[0m \u001b[0;34m=\u001b[0m \u001b[0mget_scree_plot\u001b[0m\u001b[0;34m(\u001b[0m\u001b[0meigenvalues\u001b[0m\u001b[0;34m)\u001b[0m\u001b[0;34m\u001b[0m\u001b[0;34m\u001b[0m\u001b[0m\n\u001b[1;32m     55\u001b[0m \u001b[0;34m\u001b[0m\u001b[0m\n",
            "\u001b[0;31mNameError\u001b[0m: name 'get_manifold_plot' is not defined"
          ]
        }
      ]
    },
    {
      "cell_type": "code",
      "source": [],
      "metadata": {
        "id": "svedcjI-gRXX"
      },
      "execution_count": null,
      "outputs": []
    }
  ],
  "metadata": {
    "colab": {
      "collapsed_sections": [
        "B2bph5cR7aj5"
      ],
      "provenance": []
    },
    "kernel": {
      "display_name": "Python 3",
      "language": "python",
      "name": "python3"
    },
    "kernelspec": {
      "display_name": "Python 3",
      "name": "python3"
    },
    "language_info": {
      "codemirror_mode": {
        "name": "ipython",
        "version": 3
      },
      "file_extension": ".py",
      "mimetype": "text/x-python",
      "name": "python",
      "nbconvert_exporter": "python",
      "pygments_lexer": "ipython3",
      "version": "3.9.17"
    }
  },
  "nbformat": 4,
  "nbformat_minor": 0
}